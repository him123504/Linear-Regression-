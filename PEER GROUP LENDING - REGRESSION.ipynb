{
 "cells": [
  {
   "cell_type": "markdown",
   "metadata": {},
   "source": [
    "## The lending club ia peer to peer lending site where members make loans to each other\n",
    "## Business Problem:How can we predict interest rates based on borrower and loan    attributes.\n"
   ]
  },
  {
   "cell_type": "markdown",
   "metadata": {},
   "source": [
    "# PRE MODELLING"
   ]
  },
  {
   "cell_type": "code",
   "execution_count": 163,
   "metadata": {},
   "outputs": [],
   "source": [
    "import pandas as pd\n",
    "import numpy as np\n",
    "import warnings\n",
    "warnings.filterwarnings(\"ignore\")"
   ]
  },
  {
   "cell_type": "code",
   "execution_count": 164,
   "metadata": {},
   "outputs": [],
   "source": [
    "data = pd.read_csv('LoansData.csv')"
   ]
  },
  {
   "cell_type": "code",
   "execution_count": 165,
   "metadata": {},
   "outputs": [
    {
     "data": {
      "text/html": [
       "<div>\n",
       "<style scoped>\n",
       "    .dataframe tbody tr th:only-of-type {\n",
       "        vertical-align: middle;\n",
       "    }\n",
       "\n",
       "    .dataframe tbody tr th {\n",
       "        vertical-align: top;\n",
       "    }\n",
       "\n",
       "    .dataframe thead th {\n",
       "        text-align: right;\n",
       "    }\n",
       "</style>\n",
       "<table border=\"1\" class=\"dataframe\">\n",
       "  <thead>\n",
       "    <tr style=\"text-align: right;\">\n",
       "      <th></th>\n",
       "      <th>LoanID</th>\n",
       "      <th>Amount.Requested</th>\n",
       "      <th>Amount.Funded.By.Investors</th>\n",
       "      <th>Interest.Rate</th>\n",
       "      <th>Loan.Length</th>\n",
       "      <th>Loan.Purpose</th>\n",
       "      <th>Debt.To.Income.Ratio</th>\n",
       "      <th>State</th>\n",
       "      <th>Home.Ownership</th>\n",
       "      <th>Monthly.Income</th>\n",
       "      <th>FICO.Range</th>\n",
       "      <th>Open.CREDIT.Lines</th>\n",
       "      <th>Revolving.CREDIT.Balance</th>\n",
       "      <th>Inquiries.in.the.Last.6.Months</th>\n",
       "      <th>Employment.Length</th>\n",
       "    </tr>\n",
       "  </thead>\n",
       "  <tbody>\n",
       "    <tr>\n",
       "      <td>0</td>\n",
       "      <td>1</td>\n",
       "      <td>20000.0</td>\n",
       "      <td>20000.0</td>\n",
       "      <td>8.90%</td>\n",
       "      <td>36 months</td>\n",
       "      <td>debt_consolidation</td>\n",
       "      <td>14.90%</td>\n",
       "      <td>SC</td>\n",
       "      <td>MORTGAGE</td>\n",
       "      <td>6541.67</td>\n",
       "      <td>735-739</td>\n",
       "      <td>14.0</td>\n",
       "      <td>14272.0</td>\n",
       "      <td>2.0</td>\n",
       "      <td>&lt; 1 year</td>\n",
       "    </tr>\n",
       "    <tr>\n",
       "      <td>1</td>\n",
       "      <td>2</td>\n",
       "      <td>19200.0</td>\n",
       "      <td>19200.0</td>\n",
       "      <td>12.12%</td>\n",
       "      <td>36 months</td>\n",
       "      <td>debt_consolidation</td>\n",
       "      <td>28.36%</td>\n",
       "      <td>TX</td>\n",
       "      <td>MORTGAGE</td>\n",
       "      <td>4583.33</td>\n",
       "      <td>715-719</td>\n",
       "      <td>12.0</td>\n",
       "      <td>11140.0</td>\n",
       "      <td>1.0</td>\n",
       "      <td>2 years</td>\n",
       "    </tr>\n",
       "    <tr>\n",
       "      <td>2</td>\n",
       "      <td>3</td>\n",
       "      <td>35000.0</td>\n",
       "      <td>35000.0</td>\n",
       "      <td>21.98%</td>\n",
       "      <td>60 months</td>\n",
       "      <td>debt_consolidation</td>\n",
       "      <td>23.81%</td>\n",
       "      <td>CA</td>\n",
       "      <td>MORTGAGE</td>\n",
       "      <td>11500.00</td>\n",
       "      <td>690-694</td>\n",
       "      <td>14.0</td>\n",
       "      <td>21977.0</td>\n",
       "      <td>1.0</td>\n",
       "      <td>2 years</td>\n",
       "    </tr>\n",
       "    <tr>\n",
       "      <td>3</td>\n",
       "      <td>4</td>\n",
       "      <td>10000.0</td>\n",
       "      <td>9975.0</td>\n",
       "      <td>9.99%</td>\n",
       "      <td>36 months</td>\n",
       "      <td>debt_consolidation</td>\n",
       "      <td>14.30%</td>\n",
       "      <td>KS</td>\n",
       "      <td>MORTGAGE</td>\n",
       "      <td>3833.33</td>\n",
       "      <td>695-699</td>\n",
       "      <td>10.0</td>\n",
       "      <td>9346.0</td>\n",
       "      <td>0.0</td>\n",
       "      <td>5 years</td>\n",
       "    </tr>\n",
       "    <tr>\n",
       "      <td>4</td>\n",
       "      <td>5</td>\n",
       "      <td>12000.0</td>\n",
       "      <td>12000.0</td>\n",
       "      <td>11.71%</td>\n",
       "      <td>36 months</td>\n",
       "      <td>credit_card</td>\n",
       "      <td>18.78%</td>\n",
       "      <td>NJ</td>\n",
       "      <td>RENT</td>\n",
       "      <td>3195.00</td>\n",
       "      <td>695-699</td>\n",
       "      <td>11.0</td>\n",
       "      <td>14469.0</td>\n",
       "      <td>0.0</td>\n",
       "      <td>9 years</td>\n",
       "    </tr>\n",
       "  </tbody>\n",
       "</table>\n",
       "</div>"
      ],
      "text/plain": [
       "   LoanID  Amount.Requested  Amount.Funded.By.Investors Interest.Rate  \\\n",
       "0       1           20000.0                     20000.0         8.90%   \n",
       "1       2           19200.0                     19200.0        12.12%   \n",
       "2       3           35000.0                     35000.0        21.98%   \n",
       "3       4           10000.0                      9975.0         9.99%   \n",
       "4       5           12000.0                     12000.0        11.71%   \n",
       "\n",
       "  Loan.Length        Loan.Purpose Debt.To.Income.Ratio State Home.Ownership  \\\n",
       "0   36 months  debt_consolidation               14.90%    SC       MORTGAGE   \n",
       "1   36 months  debt_consolidation               28.36%    TX       MORTGAGE   \n",
       "2   60 months  debt_consolidation               23.81%    CA       MORTGAGE   \n",
       "3   36 months  debt_consolidation               14.30%    KS       MORTGAGE   \n",
       "4   36 months         credit_card               18.78%    NJ           RENT   \n",
       "\n",
       "   Monthly.Income FICO.Range  Open.CREDIT.Lines  Revolving.CREDIT.Balance  \\\n",
       "0         6541.67    735-739               14.0                   14272.0   \n",
       "1         4583.33    715-719               12.0                   11140.0   \n",
       "2        11500.00    690-694               14.0                   21977.0   \n",
       "3         3833.33    695-699               10.0                    9346.0   \n",
       "4         3195.00    695-699               11.0                   14469.0   \n",
       "\n",
       "   Inquiries.in.the.Last.6.Months Employment.Length  \n",
       "0                             2.0          < 1 year  \n",
       "1                             1.0           2 years  \n",
       "2                             1.0           2 years  \n",
       "3                             0.0           5 years  \n",
       "4                             0.0           9 years  "
      ]
     },
     "execution_count": 165,
     "metadata": {},
     "output_type": "execute_result"
    }
   ],
   "source": [
    "data.head()"
   ]
  },
  {
   "cell_type": "code",
   "execution_count": 166,
   "metadata": {},
   "outputs": [
    {
     "data": {
      "text/plain": [
       "(2500, 15)"
      ]
     },
     "execution_count": 166,
     "metadata": {},
     "output_type": "execute_result"
    }
   ],
   "source": [
    "data.shape"
   ]
  },
  {
   "cell_type": "code",
   "execution_count": 167,
   "metadata": {},
   "outputs": [
    {
     "data": {
      "text/plain": [
       "LoanID                              int64\n",
       "Amount.Requested                  float64\n",
       "Amount.Funded.By.Investors        float64\n",
       "Interest.Rate                      object\n",
       "Loan.Length                        object\n",
       "Loan.Purpose                       object\n",
       "Debt.To.Income.Ratio               object\n",
       "State                              object\n",
       "Home.Ownership                     object\n",
       "Monthly.Income                    float64\n",
       "FICO.Range                         object\n",
       "Open.CREDIT.Lines                 float64\n",
       "Revolving.CREDIT.Balance          float64\n",
       "Inquiries.in.the.Last.6.Months    float64\n",
       "Employment.Length                  object\n",
       "dtype: object"
      ]
     },
     "execution_count": 167,
     "metadata": {},
     "output_type": "execute_result"
    }
   ],
   "source": [
    "data.dtypes # Finding the data types of each column"
   ]
  },
  {
   "cell_type": "markdown",
   "metadata": {},
   "source": [
    "## Get rid of duplicate rows or any other duplicates if required"
   ]
  },
  {
   "cell_type": "code",
   "execution_count": 168,
   "metadata": {},
   "outputs": [
    {
     "data": {
      "text/plain": [
       "False    2500\n",
       "dtype: int64"
      ]
     },
     "execution_count": 168,
     "metadata": {},
     "output_type": "execute_result"
    }
   ],
   "source": [
    "data.duplicated().value_counts()"
   ]
  },
  {
   "cell_type": "code",
   "execution_count": 169,
   "metadata": {},
   "outputs": [
    {
     "data": {
      "text/plain": [
       "LoanID                             0\n",
       "Amount.Requested                   1\n",
       "Amount.Funded.By.Investors         1\n",
       "Interest.Rate                      2\n",
       "Loan.Length                        0\n",
       "Loan.Purpose                       0\n",
       "Debt.To.Income.Ratio               1\n",
       "State                              0\n",
       "Home.Ownership                     1\n",
       "Monthly.Income                     1\n",
       "FICO.Range                         2\n",
       "Open.CREDIT.Lines                  3\n",
       "Revolving.CREDIT.Balance           3\n",
       "Inquiries.in.the.Last.6.Months     3\n",
       "Employment.Length                 77\n",
       "dtype: int64"
      ]
     },
     "execution_count": 169,
     "metadata": {},
     "output_type": "execute_result"
    }
   ],
   "source": [
    "data.isnull().sum() # Finding no. of missing values in each column"
   ]
  },
  {
   "cell_type": "markdown",
   "metadata": {},
   "source": [
    "### Pandas_Profiling\n",
    "#### Provides you with a Audit Report For Exploratory Data Analysis "
   ]
  },
  {
   "cell_type": "code",
   "execution_count": 170,
   "metadata": {},
   "outputs": [],
   "source": [
    "import pandas_profiling "
   ]
  },
  {
   "cell_type": "code",
   "execution_count": 171,
   "metadata": {},
   "outputs": [],
   "source": [
    "profile_report=pandas_profiling.ProfileReport(data)"
   ]
  },
  {
   "cell_type": "code",
   "execution_count": 172,
   "metadata": {},
   "outputs": [],
   "source": [
    "profile_report.to_file(\"profile_report.html\")"
   ]
  },
  {
   "cell_type": "markdown",
   "metadata": {},
   "source": [
    "# MODELING\n",
    "## Select Algorithm\n",
    "### It is a Regression problem and we are using Linear Regression algorithm to solve it"
   ]
  },
  {
   "cell_type": "markdown",
   "metadata": {},
   "source": [
    "## Data Preparation I\n",
    "## Fix Problem Identified at the Pre-Modeling Stage\n",
    "Column names are not as per the pythonic way of doing thing\n",
    "\n",
    "Type Casting\n",
    "\n",
    "Create New Variables (FICO)\n",
    "\n",
    "Missing Values\n",
    "\n",
    "May be dealing with outliers\n",
    "\n",
    "Have Categorical Variables i.e. Have to encode them\n",
    "\n",
    "Dealing with features with high cardinality --> Have to drop the variable bcz only the ID var has high cardinality"
   ]
  },
  {
   "cell_type": "markdown",
   "metadata": {},
   "source": [
    "### Column names in order"
   ]
  },
  {
   "cell_type": "code",
   "execution_count": 173,
   "metadata": {},
   "outputs": [],
   "source": [
    "data.columns=data.columns.str.replace(\".\",\"_\")"
   ]
  },
  {
   "cell_type": "markdown",
   "metadata": {},
   "source": [
    "### Type Casting\n",
    "Interest_Rate\n",
    "\n",
    "Loan_Length\n",
    "\n",
    "Debt_To_Income_Ratio\n",
    "\n",
    "Employment_Length"
   ]
  },
  {
   "cell_type": "code",
   "execution_count": 174,
   "metadata": {},
   "outputs": [],
   "source": [
    "data['Interest_Rate']=data['Interest_Rate'].apply(lambda x:float(str(x).replace(\"%\",\"\")))\n",
    "data['Debt_To_Income_Ratio'] = data['Debt_To_Income_Ratio'].apply(lambda x: float(str(x).replace('%','')))"
   ]
  },
  {
   "cell_type": "code",
   "execution_count": 175,
   "metadata": {},
   "outputs": [],
   "source": [
    "data['Employment_Length'] = data['Employment_Length'].apply(lambda x: str(x).replace('< ',''))\n",
    "data['Employment_Length'] = data['Employment_Length'].apply(lambda x: str(x).replace('+',''))\n",
    "data['Employment_Length'] = data['Employment_Length'].apply(lambda x: str(x).replace(' years',''))\n",
    "data['Employment_Length'] = data['Employment_Length'].apply(lambda x: float(str(x).replace(' year','')))"
   ]
  },
  {
   "cell_type": "code",
   "execution_count": 176,
   "metadata": {},
   "outputs": [],
   "source": [
    "data['Loan_Length'] = data['Loan_Length'].apply(lambda x: float(str(x).replace(' months','')))"
   ]
  },
  {
   "cell_type": "markdown",
   "metadata": {},
   "source": [
    "#### Create New Variables (FICO)"
   ]
  },
  {
   "cell_type": "code",
   "execution_count": 177,
   "metadata": {},
   "outputs": [],
   "source": [
    "data[['Fico_low','Fico_high']] = data.FICO_Range.str.split('-', expand=True)"
   ]
  },
  {
   "cell_type": "code",
   "execution_count": 178,
   "metadata": {},
   "outputs": [],
   "source": [
    "data.Fico_low = data.Fico_low.astype(\"float\")\n",
    "data.Fico_high = data.Fico_high.astype(\"float\")\n",
    "data['Fico_avg'] = ((data.Fico_low+data.Fico_high)/2)"
   ]
  },
  {
   "cell_type": "raw",
   "metadata": {},
   "source": [
    "#################### dividide the dataset into Numeric and Categorical ##################"
   ]
  },
  {
   "cell_type": "code",
   "execution_count": 179,
   "metadata": {},
   "outputs": [
    {
     "name": "stdout",
     "output_type": "stream",
     "text": [
      "['LoanID', 'Amount_Requested', 'Amount_Funded_By_Investors', 'Interest_Rate', 'Loan_Length', 'Debt_To_Income_Ratio', 'Monthly_Income', 'Open_CREDIT_Lines', 'Revolving_CREDIT_Balance', 'Inquiries_in_the_Last_6_Months', 'Employment_Length', 'Fico_low', 'Fico_high', 'Fico_avg']\n",
      "['Loan_Purpose', 'State', 'Home_Ownership', 'FICO_Range']\n"
     ]
    }
   ],
   "source": [
    "numeric_var_names=[key for key in dict(data.dtypes) if dict(data.dtypes)[key] in ['float64', 'int64', 'float32', 'int32']]\n",
    "cat_var_names=[key for key in dict(data.dtypes) if dict(data.dtypes)[key] in ['object']]\n",
    "print(numeric_var_names)\n",
    "print(cat_var_names)"
   ]
  },
  {
   "cell_type": "code",
   "execution_count": 180,
   "metadata": {},
   "outputs": [],
   "source": [
    "data_num = data[numeric_var_names]\n",
    "data_cat = data[cat_var_names]"
   ]
  },
  {
   "cell_type": "code",
   "execution_count": 181,
   "metadata": {},
   "outputs": [],
   "source": [
    "def outlier_miss_treat(x):\n",
    "    x = x.clip_upper(x.quantile(0.99))\n",
    "    x = x.clip_lower(x.quantile(0.01))\n",
    "    x = x.fillna(x.median())\n",
    "    return x"
   ]
  },
  {
   "cell_type": "code",
   "execution_count": 182,
   "metadata": {},
   "outputs": [],
   "source": [
    "data_num_new=data_num.apply(outlier_miss_treat)"
   ]
  },
  {
   "cell_type": "code",
   "execution_count": 183,
   "metadata": {},
   "outputs": [],
   "source": [
    "def miss_treat(x):\n",
    "    x = x.fillna(x.mode().iloc[0])\n",
    "    return (x)"
   ]
  },
  {
   "cell_type": "code",
   "execution_count": 184,
   "metadata": {},
   "outputs": [],
   "source": [
    "data_cat_new = data_cat.apply(miss_treat)"
   ]
  },
  {
   "cell_type": "code",
   "execution_count": 185,
   "metadata": {},
   "outputs": [
    {
     "data": {
      "text/plain": [
       "Loan_Purpose      2500\n",
       "State             2500\n",
       "Home_Ownership    2500\n",
       "FICO_Range        2500\n",
       "dtype: int64"
      ]
     },
     "execution_count": 185,
     "metadata": {},
     "output_type": "execute_result"
    }
   ],
   "source": [
    "data_cat_new.count()"
   ]
  },
  {
   "cell_type": "code",
   "execution_count": 186,
   "metadata": {},
   "outputs": [
    {
     "data": {
      "text/plain": [
       "LoanID                            2500\n",
       "Amount_Requested                  2500\n",
       "Amount_Funded_By_Investors        2500\n",
       "Interest_Rate                     2500\n",
       "Loan_Length                       2500\n",
       "Debt_To_Income_Ratio              2500\n",
       "Monthly_Income                    2500\n",
       "Open_CREDIT_Lines                 2500\n",
       "Revolving_CREDIT_Balance          2500\n",
       "Inquiries_in_the_Last_6_Months    2500\n",
       "Employment_Length                 2500\n",
       "Fico_low                          2500\n",
       "Fico_high                         2500\n",
       "Fico_avg                          2500\n",
       "dtype: int64"
      ]
     },
     "execution_count": 186,
     "metadata": {},
     "output_type": "execute_result"
    }
   ],
   "source": [
    "data_num_new.count()"
   ]
  },
  {
   "cell_type": "code",
   "execution_count": 187,
   "metadata": {},
   "outputs": [],
   "source": [
    "del data_cat_new['FICO_Range']"
   ]
  },
  {
   "cell_type": "code",
   "execution_count": 188,
   "metadata": {},
   "outputs": [],
   "source": [
    "data_cat_new2 = pd.get_dummies(data_cat_new, drop_first=True)"
   ]
  },
  {
   "cell_type": "code",
   "execution_count": 189,
   "metadata": {},
   "outputs": [],
   "source": [
    "data_new = pd.concat([data_num_new, data_cat_new2], axis=1)"
   ]
  },
  {
   "cell_type": "code",
   "execution_count": 190,
   "metadata": {},
   "outputs": [
    {
     "data": {
      "text/plain": [
       "(2500, 76)"
      ]
     },
     "execution_count": 190,
     "metadata": {},
     "output_type": "execute_result"
    }
   ],
   "source": [
    "data_new.shape"
   ]
  },
  {
   "cell_type": "code",
   "execution_count": 191,
   "metadata": {},
   "outputs": [
    {
     "data": {
      "text/html": [
       "<div>\n",
       "<style scoped>\n",
       "    .dataframe tbody tr th:only-of-type {\n",
       "        vertical-align: middle;\n",
       "    }\n",
       "\n",
       "    .dataframe tbody tr th {\n",
       "        vertical-align: top;\n",
       "    }\n",
       "\n",
       "    .dataframe thead th {\n",
       "        text-align: right;\n",
       "    }\n",
       "</style>\n",
       "<table border=\"1\" class=\"dataframe\">\n",
       "  <thead>\n",
       "    <tr style=\"text-align: right;\">\n",
       "      <th></th>\n",
       "      <th>LoanID</th>\n",
       "      <th>Amount_Requested</th>\n",
       "      <th>Amount_Funded_By_Investors</th>\n",
       "      <th>Interest_Rate</th>\n",
       "      <th>Loan_Length</th>\n",
       "      <th>Debt_To_Income_Ratio</th>\n",
       "      <th>Monthly_Income</th>\n",
       "      <th>Open_CREDIT_Lines</th>\n",
       "      <th>Revolving_CREDIT_Balance</th>\n",
       "      <th>Inquiries_in_the_Last_6_Months</th>\n",
       "      <th>...</th>\n",
       "      <th>State_VA</th>\n",
       "      <th>State_VT</th>\n",
       "      <th>State_WA</th>\n",
       "      <th>State_WI</th>\n",
       "      <th>State_WV</th>\n",
       "      <th>State_WY</th>\n",
       "      <th>Home_Ownership_NONE</th>\n",
       "      <th>Home_Ownership_OTHER</th>\n",
       "      <th>Home_Ownership_OWN</th>\n",
       "      <th>Home_Ownership_RENT</th>\n",
       "    </tr>\n",
       "  </thead>\n",
       "  <tbody>\n",
       "    <tr>\n",
       "      <td>0</td>\n",
       "      <td>25.99</td>\n",
       "      <td>20000.0</td>\n",
       "      <td>20000.0</td>\n",
       "      <td>8.90</td>\n",
       "      <td>36.0</td>\n",
       "      <td>14.90</td>\n",
       "      <td>6541.67</td>\n",
       "      <td>14.0</td>\n",
       "      <td>14272.0</td>\n",
       "      <td>2.0</td>\n",
       "      <td>...</td>\n",
       "      <td>0</td>\n",
       "      <td>0</td>\n",
       "      <td>0</td>\n",
       "      <td>0</td>\n",
       "      <td>0</td>\n",
       "      <td>0</td>\n",
       "      <td>0</td>\n",
       "      <td>0</td>\n",
       "      <td>0</td>\n",
       "      <td>0</td>\n",
       "    </tr>\n",
       "    <tr>\n",
       "      <td>1</td>\n",
       "      <td>25.99</td>\n",
       "      <td>19200.0</td>\n",
       "      <td>19200.0</td>\n",
       "      <td>12.12</td>\n",
       "      <td>36.0</td>\n",
       "      <td>28.36</td>\n",
       "      <td>4583.33</td>\n",
       "      <td>12.0</td>\n",
       "      <td>11140.0</td>\n",
       "      <td>1.0</td>\n",
       "      <td>...</td>\n",
       "      <td>0</td>\n",
       "      <td>0</td>\n",
       "      <td>0</td>\n",
       "      <td>0</td>\n",
       "      <td>0</td>\n",
       "      <td>0</td>\n",
       "      <td>0</td>\n",
       "      <td>0</td>\n",
       "      <td>0</td>\n",
       "      <td>0</td>\n",
       "    </tr>\n",
       "    <tr>\n",
       "      <td>2</td>\n",
       "      <td>25.99</td>\n",
       "      <td>35000.0</td>\n",
       "      <td>35000.0</td>\n",
       "      <td>21.98</td>\n",
       "      <td>60.0</td>\n",
       "      <td>23.81</td>\n",
       "      <td>11500.00</td>\n",
       "      <td>14.0</td>\n",
       "      <td>21977.0</td>\n",
       "      <td>1.0</td>\n",
       "      <td>...</td>\n",
       "      <td>0</td>\n",
       "      <td>0</td>\n",
       "      <td>0</td>\n",
       "      <td>0</td>\n",
       "      <td>0</td>\n",
       "      <td>0</td>\n",
       "      <td>0</td>\n",
       "      <td>0</td>\n",
       "      <td>0</td>\n",
       "      <td>0</td>\n",
       "    </tr>\n",
       "    <tr>\n",
       "      <td>3</td>\n",
       "      <td>25.99</td>\n",
       "      <td>10000.0</td>\n",
       "      <td>9975.0</td>\n",
       "      <td>9.99</td>\n",
       "      <td>36.0</td>\n",
       "      <td>14.30</td>\n",
       "      <td>3833.33</td>\n",
       "      <td>10.0</td>\n",
       "      <td>9346.0</td>\n",
       "      <td>0.0</td>\n",
       "      <td>...</td>\n",
       "      <td>0</td>\n",
       "      <td>0</td>\n",
       "      <td>0</td>\n",
       "      <td>0</td>\n",
       "      <td>0</td>\n",
       "      <td>0</td>\n",
       "      <td>0</td>\n",
       "      <td>0</td>\n",
       "      <td>0</td>\n",
       "      <td>0</td>\n",
       "    </tr>\n",
       "    <tr>\n",
       "      <td>4</td>\n",
       "      <td>25.99</td>\n",
       "      <td>12000.0</td>\n",
       "      <td>12000.0</td>\n",
       "      <td>11.71</td>\n",
       "      <td>36.0</td>\n",
       "      <td>18.78</td>\n",
       "      <td>3195.00</td>\n",
       "      <td>11.0</td>\n",
       "      <td>14469.0</td>\n",
       "      <td>0.0</td>\n",
       "      <td>...</td>\n",
       "      <td>0</td>\n",
       "      <td>0</td>\n",
       "      <td>0</td>\n",
       "      <td>0</td>\n",
       "      <td>0</td>\n",
       "      <td>0</td>\n",
       "      <td>0</td>\n",
       "      <td>0</td>\n",
       "      <td>0</td>\n",
       "      <td>1</td>\n",
       "    </tr>\n",
       "  </tbody>\n",
       "</table>\n",
       "<p>5 rows × 76 columns</p>\n",
       "</div>"
      ],
      "text/plain": [
       "   LoanID  Amount_Requested  Amount_Funded_By_Investors  Interest_Rate  \\\n",
       "0   25.99           20000.0                     20000.0           8.90   \n",
       "1   25.99           19200.0                     19200.0          12.12   \n",
       "2   25.99           35000.0                     35000.0          21.98   \n",
       "3   25.99           10000.0                      9975.0           9.99   \n",
       "4   25.99           12000.0                     12000.0          11.71   \n",
       "\n",
       "   Loan_Length  Debt_To_Income_Ratio  Monthly_Income  Open_CREDIT_Lines  \\\n",
       "0         36.0                 14.90         6541.67               14.0   \n",
       "1         36.0                 28.36         4583.33               12.0   \n",
       "2         60.0                 23.81        11500.00               14.0   \n",
       "3         36.0                 14.30         3833.33               10.0   \n",
       "4         36.0                 18.78         3195.00               11.0   \n",
       "\n",
       "   Revolving_CREDIT_Balance  Inquiries_in_the_Last_6_Months  ...  State_VA  \\\n",
       "0                   14272.0                             2.0  ...         0   \n",
       "1                   11140.0                             1.0  ...         0   \n",
       "2                   21977.0                             1.0  ...         0   \n",
       "3                    9346.0                             0.0  ...         0   \n",
       "4                   14469.0                             0.0  ...         0   \n",
       "\n",
       "   State_VT  State_WA  State_WI  State_WV  State_WY  Home_Ownership_NONE  \\\n",
       "0         0         0         0         0         0                    0   \n",
       "1         0         0         0         0         0                    0   \n",
       "2         0         0         0         0         0                    0   \n",
       "3         0         0         0         0         0                    0   \n",
       "4         0         0         0         0         0                    0   \n",
       "\n",
       "   Home_Ownership_OTHER  Home_Ownership_OWN  Home_Ownership_RENT  \n",
       "0                     0                   0                    0  \n",
       "1                     0                   0                    0  \n",
       "2                     0                   0                    0  \n",
       "3                     0                   0                    0  \n",
       "4                     0                   0                    1  \n",
       "\n",
       "[5 rows x 76 columns]"
      ]
     },
     "execution_count": 191,
     "metadata": {},
     "output_type": "execute_result"
    }
   ],
   "source": [
    "data_new.head()"
   ]
  },
  {
   "cell_type": "markdown",
   "metadata": {},
   "source": [
    "# Data Preparation Level II (Determining Assumptions)"
   ]
  },
  {
   "cell_type": "markdown",
   "metadata": {},
   "source": [
    " ## Y should follow normal distribution.\n",
    "Can be solved by transforming the Y variable and using this transformed Y variable for creating the model"
   ]
  },
  {
   "cell_type": "code",
   "execution_count": 192,
   "metadata": {},
   "outputs": [],
   "source": [
    "from matplotlib import pyplot as plt\n",
    "import seaborn as sns"
   ]
  },
  {
   "cell_type": "code",
   "execution_count": 193,
   "metadata": {},
   "outputs": [
    {
     "data": {
      "text/plain": [
       "<matplotlib.axes._subplots.AxesSubplot at 0x1c98b743a08>"
      ]
     },
     "execution_count": 193,
     "metadata": {},
     "output_type": "execute_result"
    },
    {
     "data": {
      "image/png": "[encoded data removed]",
      "text/plain": [
       "<Figure size 432x288 with 1 Axes>"
      ]
     },
     "metadata": {
      "needs_background": "light"
     },
     "output_type": "display_data"
    }
   ],
   "source": [
    "data_new.Interest_Rate.hist(bins=20)"
   ]
  },
  {
   "cell_type": "code",
   "execution_count": 194,
   "metadata": {},
   "outputs": [
    {
     "data": {
      "text/plain": [
       "<matplotlib.axes._subplots.AxesSubplot at 0x1c986d59d08>"
      ]
     },
     "execution_count": 194,
     "metadata": {},
     "output_type": "execute_result"
    },
    {
     "data": {
      "image/png": "[encoded data removed]",
      "text/plain": [
       "<Figure size 432x288 with 1 Axes>"
      ]
     },
     "metadata": {
      "needs_background": "light"
     },
     "output_type": "display_data"
    }
   ],
   "source": [
    "sns.distplot(data_new.Interest_Rate)"
   ]
  },
  {
   "cell_type": "code",
   "execution_count": 195,
   "metadata": {},
   "outputs": [
    {
     "data": {
      "text/plain": [
       "<matplotlib.axes._subplots.AxesSubplot at 0x1c986e6da48>"
      ]
     },
     "execution_count": 195,
     "metadata": {},
     "output_type": "execute_result"
    },
    {
     "data": {
      "image/png": "[encoded data removed]",
      "text/plain": [
       "<Figure size 432x288 with 1 Axes>"
      ]
     },
     "metadata": {
      "needs_background": "light"
     },
     "output_type": "display_data"
    }
   ],
   "source": [
    "sns.distplot(np.log(data_new.Interest_Rate)) # Taking Log transormation"
   ]
  },
  {
   "cell_type": "code",
   "execution_count": 196,
   "metadata": {},
   "outputs": [],
   "source": [
    "data_new['ln_Y']=np.log(data_new.Interest_Rate)"
   ]
  },
  {
   "cell_type": "code",
   "execution_count": 197,
   "metadata": {},
   "outputs": [
    {
     "data": {
      "text/html": [
       "<div>\n",
       "<style scoped>\n",
       "    .dataframe tbody tr th:only-of-type {\n",
       "        vertical-align: middle;\n",
       "    }\n",
       "\n",
       "    .dataframe tbody tr th {\n",
       "        vertical-align: top;\n",
       "    }\n",
       "\n",
       "    .dataframe thead th {\n",
       "        text-align: right;\n",
       "    }\n",
       "</style>\n",
       "<table border=\"1\" class=\"dataframe\">\n",
       "  <thead>\n",
       "    <tr style=\"text-align: right;\">\n",
       "      <th></th>\n",
       "      <th>LoanID</th>\n",
       "      <th>Amount_Requested</th>\n",
       "      <th>Amount_Funded_By_Investors</th>\n",
       "      <th>Interest_Rate</th>\n",
       "      <th>Loan_Length</th>\n",
       "      <th>Debt_To_Income_Ratio</th>\n",
       "      <th>Monthly_Income</th>\n",
       "      <th>Open_CREDIT_Lines</th>\n",
       "      <th>Revolving_CREDIT_Balance</th>\n",
       "      <th>Inquiries_in_the_Last_6_Months</th>\n",
       "      <th>...</th>\n",
       "      <th>State_VT</th>\n",
       "      <th>State_WA</th>\n",
       "      <th>State_WI</th>\n",
       "      <th>State_WV</th>\n",
       "      <th>State_WY</th>\n",
       "      <th>Home_Ownership_NONE</th>\n",
       "      <th>Home_Ownership_OTHER</th>\n",
       "      <th>Home_Ownership_OWN</th>\n",
       "      <th>Home_Ownership_RENT</th>\n",
       "      <th>ln_Y</th>\n",
       "    </tr>\n",
       "  </thead>\n",
       "  <tbody>\n",
       "    <tr>\n",
       "      <td>0</td>\n",
       "      <td>25.99</td>\n",
       "      <td>20000.0</td>\n",
       "      <td>20000.0</td>\n",
       "      <td>8.90</td>\n",
       "      <td>36.0</td>\n",
       "      <td>14.90</td>\n",
       "      <td>6541.67</td>\n",
       "      <td>14.0</td>\n",
       "      <td>14272.0</td>\n",
       "      <td>2.0</td>\n",
       "      <td>...</td>\n",
       "      <td>0</td>\n",
       "      <td>0</td>\n",
       "      <td>0</td>\n",
       "      <td>0</td>\n",
       "      <td>0</td>\n",
       "      <td>0</td>\n",
       "      <td>0</td>\n",
       "      <td>0</td>\n",
       "      <td>0</td>\n",
       "      <td>2.186051</td>\n",
       "    </tr>\n",
       "    <tr>\n",
       "      <td>1</td>\n",
       "      <td>25.99</td>\n",
       "      <td>19200.0</td>\n",
       "      <td>19200.0</td>\n",
       "      <td>12.12</td>\n",
       "      <td>36.0</td>\n",
       "      <td>28.36</td>\n",
       "      <td>4583.33</td>\n",
       "      <td>12.0</td>\n",
       "      <td>11140.0</td>\n",
       "      <td>1.0</td>\n",
       "      <td>...</td>\n",
       "      <td>0</td>\n",
       "      <td>0</td>\n",
       "      <td>0</td>\n",
       "      <td>0</td>\n",
       "      <td>0</td>\n",
       "      <td>0</td>\n",
       "      <td>0</td>\n",
       "      <td>0</td>\n",
       "      <td>0</td>\n",
       "      <td>2.494857</td>\n",
       "    </tr>\n",
       "    <tr>\n",
       "      <td>2</td>\n",
       "      <td>25.99</td>\n",
       "      <td>35000.0</td>\n",
       "      <td>35000.0</td>\n",
       "      <td>21.98</td>\n",
       "      <td>60.0</td>\n",
       "      <td>23.81</td>\n",
       "      <td>11500.00</td>\n",
       "      <td>14.0</td>\n",
       "      <td>21977.0</td>\n",
       "      <td>1.0</td>\n",
       "      <td>...</td>\n",
       "      <td>0</td>\n",
       "      <td>0</td>\n",
       "      <td>0</td>\n",
       "      <td>0</td>\n",
       "      <td>0</td>\n",
       "      <td>0</td>\n",
       "      <td>0</td>\n",
       "      <td>0</td>\n",
       "      <td>0</td>\n",
       "      <td>3.090133</td>\n",
       "    </tr>\n",
       "    <tr>\n",
       "      <td>3</td>\n",
       "      <td>25.99</td>\n",
       "      <td>10000.0</td>\n",
       "      <td>9975.0</td>\n",
       "      <td>9.99</td>\n",
       "      <td>36.0</td>\n",
       "      <td>14.30</td>\n",
       "      <td>3833.33</td>\n",
       "      <td>10.0</td>\n",
       "      <td>9346.0</td>\n",
       "      <td>0.0</td>\n",
       "      <td>...</td>\n",
       "      <td>0</td>\n",
       "      <td>0</td>\n",
       "      <td>0</td>\n",
       "      <td>0</td>\n",
       "      <td>0</td>\n",
       "      <td>0</td>\n",
       "      <td>0</td>\n",
       "      <td>0</td>\n",
       "      <td>0</td>\n",
       "      <td>2.301585</td>\n",
       "    </tr>\n",
       "    <tr>\n",
       "      <td>4</td>\n",
       "      <td>25.99</td>\n",
       "      <td>12000.0</td>\n",
       "      <td>12000.0</td>\n",
       "      <td>11.71</td>\n",
       "      <td>36.0</td>\n",
       "      <td>18.78</td>\n",
       "      <td>3195.00</td>\n",
       "      <td>11.0</td>\n",
       "      <td>14469.0</td>\n",
       "      <td>0.0</td>\n",
       "      <td>...</td>\n",
       "      <td>0</td>\n",
       "      <td>0</td>\n",
       "      <td>0</td>\n",
       "      <td>0</td>\n",
       "      <td>0</td>\n",
       "      <td>0</td>\n",
       "      <td>0</td>\n",
       "      <td>0</td>\n",
       "      <td>1</td>\n",
       "      <td>2.460443</td>\n",
       "    </tr>\n",
       "  </tbody>\n",
       "</table>\n",
       "<p>5 rows × 77 columns</p>\n",
       "</div>"
      ],
      "text/plain": [
       "   LoanID  Amount_Requested  Amount_Funded_By_Investors  Interest_Rate  \\\n",
       "0   25.99           20000.0                     20000.0           8.90   \n",
       "1   25.99           19200.0                     19200.0          12.12   \n",
       "2   25.99           35000.0                     35000.0          21.98   \n",
       "3   25.99           10000.0                      9975.0           9.99   \n",
       "4   25.99           12000.0                     12000.0          11.71   \n",
       "\n",
       "   Loan_Length  Debt_To_Income_Ratio  Monthly_Income  Open_CREDIT_Lines  \\\n",
       "0         36.0                 14.90         6541.67               14.0   \n",
       "1         36.0                 28.36         4583.33               12.0   \n",
       "2         60.0                 23.81        11500.00               14.0   \n",
       "3         36.0                 14.30         3833.33               10.0   \n",
       "4         36.0                 18.78         3195.00               11.0   \n",
       "\n",
       "   Revolving_CREDIT_Balance  Inquiries_in_the_Last_6_Months  ...  State_VT  \\\n",
       "0                   14272.0                             2.0  ...         0   \n",
       "1                   11140.0                             1.0  ...         0   \n",
       "2                   21977.0                             1.0  ...         0   \n",
       "3                    9346.0                             0.0  ...         0   \n",
       "4                   14469.0                             0.0  ...         0   \n",
       "\n",
       "   State_WA  State_WI  State_WV  State_WY  Home_Ownership_NONE  \\\n",
       "0         0         0         0         0                    0   \n",
       "1         0         0         0         0                    0   \n",
       "2         0         0         0         0                    0   \n",
       "3         0         0         0         0                    0   \n",
       "4         0         0         0         0                    0   \n",
       "\n",
       "   Home_Ownership_OTHER  Home_Ownership_OWN  Home_Ownership_RENT      ln_Y  \n",
       "0                     0                   0                    0  2.186051  \n",
       "1                     0                   0                    0  2.494857  \n",
       "2                     0                   0                    0  3.090133  \n",
       "3                     0                   0                    0  2.301585  \n",
       "4                     0                   0                    1  2.460443  \n",
       "\n",
       "[5 rows x 77 columns]"
      ]
     },
     "execution_count": 197,
     "metadata": {},
     "output_type": "execute_result"
    }
   ],
   "source": [
    "data_new.head()"
   ]
  },
  {
   "cell_type": "markdown",
   "metadata": {},
   "source": [
    "## There should be correlation between x and Y variable\n",
    "Can Create a Linear Regression Model as a number of x variables are correlated with the Y"
   ]
  },
  {
   "cell_type": "code",
   "execution_count": 198,
   "metadata": {},
   "outputs": [
    {
     "data": {
      "text/plain": [
       "LoanID                            0.020067\n",
       "Amount_Requested                  0.330780\n",
       "Amount_Funded_By_Investors        0.335694\n",
       "Interest_Rate                     1.000000\n",
       "Loan_Length                       0.423147\n",
       "Debt_To_Income_Ratio              0.173002\n",
       "Monthly_Income                    0.036206\n",
       "Open_CREDIT_Lines                 0.083050\n",
       "Revolving_CREDIT_Balance          0.083611\n",
       "Inquiries_in_the_Last_6_Months    0.170408\n",
       "Employment_Length                 0.052629\n",
       "Fico_low                         -0.712008\n",
       "Fico_high                        -0.712008\n",
       "Fico_avg                         -0.712008\n",
       "dtype: float64"
      ]
     },
     "execution_count": 198,
     "metadata": {},
     "output_type": "execute_result"
    }
   ],
   "source": [
    "data_num_new.corrwith(data_num_new.Interest_Rate)"
   ]
  },
  {
   "cell_type": "markdown",
   "metadata": {},
   "source": [
    "### There should be no multicollinearity i.e. X variables should not be highly correlated to each other"
   ]
  },
  {
   "cell_type": "code",
   "execution_count": 199,
   "metadata": {},
   "outputs": [],
   "source": [
    "corrm=data_num_new.corr()"
   ]
  },
  {
   "cell_type": "code",
   "execution_count": 200,
   "metadata": {},
   "outputs": [
    {
     "data": {
      "text/plain": [
       "<matplotlib.axes._subplots.AxesSubplot at 0x1c986f35608>"
      ]
     },
     "execution_count": 200,
     "metadata": {},
     "output_type": "execute_result"
    },
    {
     "data": {
      "image/png": "[encoded data removed]",
      "text/plain": [
       "<Figure size 432x288 with 2 Axes>"
      ]
     },
     "metadata": {
      "needs_background": "light"
     },
     "output_type": "display_data"
    }
   ],
   "source": [
    "# visualize correlation matrix in Seaborn using a heatmap\n",
    "sns.heatmap(data_num_new.corr())"
   ]
  },
  {
   "cell_type": "markdown",
   "metadata": {},
   "source": [
    "## Data Preparation III (Feature Engineering – Feature Reduction)"
   ]
  },
  {
   "cell_type": "code",
   "execution_count": 201,
   "metadata": {},
   "outputs": [],
   "source": [
    "del data_new['LoanID']\n",
    "del data_new['Fico_low']\n",
    "del data_new['Fico_high']"
   ]
  },
  {
   "cell_type": "markdown",
   "metadata": {},
   "source": [
    "#### Corr between x and Y"
   ]
  },
  {
   "cell_type": "code",
   "execution_count": 202,
   "metadata": {},
   "outputs": [
    {
     "data": {
      "text/plain": [
       "LoanID                            0.020067\n",
       "Amount_Requested                  0.330780\n",
       "Amount_Funded_By_Investors        0.335694\n",
       "Interest_Rate                     1.000000\n",
       "Loan_Length                       0.423147\n",
       "Debt_To_Income_Ratio              0.173002\n",
       "Monthly_Income                    0.036206\n",
       "Open_CREDIT_Lines                 0.083050\n",
       "Revolving_CREDIT_Balance          0.083611\n",
       "Inquiries_in_the_Last_6_Months    0.170408\n",
       "Employment_Length                 0.052629\n",
       "Fico_low                         -0.712008\n",
       "Fico_high                        -0.712008\n",
       "Fico_avg                         -0.712008\n",
       "dtype: float64"
      ]
     },
     "execution_count": 202,
     "metadata": {},
     "output_type": "execute_result"
    }
   ],
   "source": [
    "data_num_new.corrwith(data_num_new.Interest_Rate)"
   ]
  },
  {
   "cell_type": "code",
   "execution_count": 203,
   "metadata": {},
   "outputs": [],
   "source": [
    "column_names=pd.Series(list(data_num_new.corrwith(data_num_new.Interest_Rate).index),name='Column_Names')\n",
    "r_values=pd.Series(list(data_num_new.corrwith(data_num_new.Interest_Rate)),name='r_values')\n",
    "corr = pd.concat([column_names,r_values],axis=1)\n",
    "corr['r_values_abs'] = np.abs(corr.r_values)\n",
    "corr = corr.sort_values(by=['r_values_abs'],ascending=False)"
   ]
  },
  {
   "cell_type": "markdown",
   "metadata": {},
   "source": [
    "### Correlation between the x variables\n",
    "Can remove Amount Funded By Investors"
   ]
  },
  {
   "cell_type": "code",
   "execution_count": 204,
   "metadata": {},
   "outputs": [],
   "source": [
    "features=data_new[data_new.columns.difference(['ln_Y', 'Interest_Rate'])]"
   ]
  },
  {
   "cell_type": "code",
   "execution_count": 205,
   "metadata": {},
   "outputs": [],
   "source": [
    "target= data_new['ln_Y']"
   ]
  },
  {
   "cell_type": "markdown",
   "metadata": {},
   "source": [
    "### Recursive Feature Elimination"
   ]
  },
  {
   "cell_type": "code",
   "execution_count": 206,
   "metadata": {},
   "outputs": [],
   "source": [
    "from sklearn.feature_selection import RFE\n",
    "from sklearn.linear_model import LinearRegression"
   ]
  },
  {
   "cell_type": "code",
   "execution_count": 207,
   "metadata": {},
   "outputs": [],
   "source": [
    "#INITIALIZATION\n",
    "lm=LinearRegression()"
   ]
  },
  {
   "cell_type": "code",
   "execution_count": 208,
   "metadata": {},
   "outputs": [],
   "source": [
    "# Fit the model on the data \n",
    "# create the RFE model and select 10 attributes\n",
    "\n",
    "rfe=RFE(lm,n_features_to_select=10)\n",
    "rfe=rfe.fit(features,target)"
   ]
  },
  {
   "cell_type": "code",
   "execution_count": 209,
   "metadata": {},
   "outputs": [],
   "source": [
    "select_cols= rfe.get_support()"
   ]
  },
  {
   "cell_type": "code",
   "execution_count": 210,
   "metadata": {},
   "outputs": [
    {
     "data": {
      "text/plain": [
       "Index(['Home_Ownership_NONE', 'Home_Ownership_OTHER',\n",
       "       'Loan_Purpose_debt_consolidation', 'Loan_Purpose_house',\n",
       "       'Loan_Purpose_moving', 'Loan_Purpose_other', 'State_HI', 'State_MT',\n",
       "       'State_SD', 'State_VT'],\n",
       "      dtype='object')"
      ]
     },
     "execution_count": 210,
     "metadata": {},
     "output_type": "execute_result"
    }
   ],
   "source": [
    "features.columns[select_cols]"
   ]
  },
  {
   "cell_type": "markdown",
   "metadata": {},
   "source": [
    "### F Regression (Univariate Regression)"
   ]
  },
  {
   "cell_type": "code",
   "execution_count": 211,
   "metadata": {},
   "outputs": [],
   "source": [
    "from sklearn.feature_selection import f_regression"
   ]
  },
  {
   "cell_type": "code",
   "execution_count": 212,
   "metadata": {},
   "outputs": [
    {
     "data": {
      "text/html": [
       "<div>\n",
       "<style scoped>\n",
       "    .dataframe tbody tr th:only-of-type {\n",
       "        vertical-align: middle;\n",
       "    }\n",
       "\n",
       "    .dataframe tbody tr th {\n",
       "        vertical-align: top;\n",
       "    }\n",
       "\n",
       "    .dataframe thead th {\n",
       "        text-align: right;\n",
       "    }\n",
       "</style>\n",
       "<table border=\"1\" class=\"dataframe\">\n",
       "  <thead>\n",
       "    <tr style=\"text-align: right;\">\n",
       "      <th></th>\n",
       "      <th>col</th>\n",
       "      <th>f_val</th>\n",
       "      <th>p_val</th>\n",
       "    </tr>\n",
       "  </thead>\n",
       "  <tbody>\n",
       "    <tr>\n",
       "      <td>4</td>\n",
       "      <td>Fico_avg</td>\n",
       "      <td>3100.724445</td>\n",
       "      <td>0.000000e+00</td>\n",
       "    </tr>\n",
       "    <tr>\n",
       "      <td>10</td>\n",
       "      <td>Loan_Length</td>\n",
       "      <td>438.267854</td>\n",
       "      <td>8.536924e-90</td>\n",
       "    </tr>\n",
       "    <tr>\n",
       "      <td>0</td>\n",
       "      <td>Amount_Funded_By_Investors</td>\n",
       "      <td>251.201192</td>\n",
       "      <td>5.558841e-54</td>\n",
       "    </tr>\n",
       "    <tr>\n",
       "      <td>1</td>\n",
       "      <td>Amount_Requested</td>\n",
       "      <td>250.674653</td>\n",
       "      <td>7.067959e-54</td>\n",
       "    </tr>\n",
       "    <tr>\n",
       "      <td>2</td>\n",
       "      <td>Debt_To_Income_Ratio</td>\n",
       "      <td>82.469906</td>\n",
       "      <td>2.122468e-19</td>\n",
       "    </tr>\n",
       "    <tr>\n",
       "      <td>9</td>\n",
       "      <td>Inquiries_in_the_Last_6_Months</td>\n",
       "      <td>81.193740</td>\n",
       "      <td>3.966141e-19</td>\n",
       "    </tr>\n",
       "    <tr>\n",
       "      <td>12</td>\n",
       "      <td>Loan_Purpose_debt_consolidation</td>\n",
       "      <td>45.372662</td>\n",
       "      <td>2.014570e-11</td>\n",
       "    </tr>\n",
       "    <tr>\n",
       "      <td>16</td>\n",
       "      <td>Loan_Purpose_major_purchase</td>\n",
       "      <td>31.624958</td>\n",
       "      <td>2.078118e-08</td>\n",
       "    </tr>\n",
       "    <tr>\n",
       "      <td>14</td>\n",
       "      <td>Loan_Purpose_home_improvement</td>\n",
       "      <td>24.097597</td>\n",
       "      <td>9.747763e-07</td>\n",
       "    </tr>\n",
       "    <tr>\n",
       "      <td>8</td>\n",
       "      <td>Home_Ownership_RENT</td>\n",
       "      <td>18.616762</td>\n",
       "      <td>1.660250e-05</td>\n",
       "    </tr>\n",
       "  </tbody>\n",
       "</table>\n",
       "</div>"
      ],
      "text/plain": [
       "                                col        f_val         p_val\n",
       "4                          Fico_avg  3100.724445  0.000000e+00\n",
       "10                      Loan_Length   438.267854  8.536924e-90\n",
       "0        Amount_Funded_By_Investors   251.201192  5.558841e-54\n",
       "1                  Amount_Requested   250.674653  7.067959e-54\n",
       "2              Debt_To_Income_Ratio    82.469906  2.122468e-19\n",
       "9    Inquiries_in_the_Last_6_Months    81.193740  3.966141e-19\n",
       "12  Loan_Purpose_debt_consolidation    45.372662  2.014570e-11\n",
       "16      Loan_Purpose_major_purchase    31.624958  2.078118e-08\n",
       "14    Loan_Purpose_home_improvement    24.097597  9.747763e-07\n",
       "8               Home_Ownership_RENT    18.616762  1.660250e-05"
      ]
     },
     "execution_count": 212,
     "metadata": {},
     "output_type": "execute_result"
    }
   ],
   "source": [
    "F_values, p_values=f_regression(features, target )\n",
    "F_values = pd.Series(F_values)\n",
    "p_values = pd.Series(p_values)\n",
    "cols = pd.Series(features.columns)\n",
    "f_vars = pd.concat([cols,F_values,p_values],axis=1)\n",
    "f_vars.columns = ['col','f_val','p_val']\n",
    "f_vars = f_vars.sort_values(by=['f_val'],ascending=False)\n",
    "f_vars.head(10)"
   ]
  },
  {
   "cell_type": "markdown",
   "metadata": {},
   "source": [
    "### Select K Best"
   ]
  },
  {
   "cell_type": "code",
   "execution_count": 213,
   "metadata": {},
   "outputs": [],
   "source": [
    "from sklearn.feature_selection import SelectKBest, f_classif, chi2"
   ]
  },
  {
   "cell_type": "code",
   "execution_count": 214,
   "metadata": {},
   "outputs": [],
   "source": [
    "selector = SelectKBest(f_classif, k=10)"
   ]
  },
  {
   "cell_type": "code",
   "execution_count": 215,
   "metadata": {},
   "outputs": [
    {
     "data": {
      "text/plain": [
       "SelectKBest(k=10, score_func=<function f_classif at 0x000001C983DFBDC8>)"
      ]
     },
     "execution_count": 215,
     "metadata": {},
     "output_type": "execute_result"
    }
   ],
   "source": [
    "selector.fit(features, target)"
   ]
  },
  {
   "cell_type": "code",
   "execution_count": 216,
   "metadata": {},
   "outputs": [
    {
     "data": {
      "text/plain": [
       "array([ True, False, False, False,  True,  True,  True, False, False,\n",
       "        True,  True, False, False,  True, False, False, False, False,\n",
       "       False, False, False, False, False, False, False, False, False,\n",
       "       False, False, False, False, False, False, False, False, False,\n",
       "       False, False,  True, False,  True, False, False, False, False,\n",
       "       False, False, False, False,  True, False, False, False, False,\n",
       "       False, False, False, False, False, False, False, False, False,\n",
       "       False, False, False, False, False, False, False, False, False])"
      ]
     },
     "execution_count": 216,
     "metadata": {},
     "output_type": "execute_result"
    }
   ],
   "source": [
    "selector.get_support()"
   ]
  },
  {
   "cell_type": "code",
   "execution_count": 217,
   "metadata": {},
   "outputs": [],
   "source": [
    "K_Best=features.columns[selector.get_support()]"
   ]
  },
  {
   "cell_type": "code",
   "execution_count": 218,
   "metadata": {},
   "outputs": [
    {
     "data": {
      "text/plain": [
       "0        Amount_Funded_By_Investors\n",
       "1                          Fico_avg\n",
       "2               Home_Ownership_NONE\n",
       "3              Home_Ownership_OTHER\n",
       "4    Inquiries_in_the_Last_6_Months\n",
       "5                       Loan_Length\n",
       "6          Loan_Purpose_educational\n",
       "7                          State_IA\n",
       "8                          State_IN\n",
       "9                          State_MS\n",
       "dtype: object"
      ]
     },
     "execution_count": 218,
     "metadata": {},
     "output_type": "execute_result"
    }
   ],
   "source": [
    "pd.Series(K_Best)"
   ]
  },
  {
   "cell_type": "markdown",
   "metadata": {},
   "source": [
    "### Variance Inflation Factor"
   ]
  },
  {
   "cell_type": "code",
   "execution_count": 219,
   "metadata": {},
   "outputs": [],
   "source": [
    "from statsmodels.stats.outliers_influence import variance_inflation_factor\n",
    "from patsy import dmatrices"
   ]
  },
  {
   "cell_type": "code",
   "execution_count": 220,
   "metadata": {},
   "outputs": [],
   "source": [
    "VIF=[variance_inflation_factor(features.values,i) for i in range(features.shape[1])]"
   ]
  },
  {
   "cell_type": "code",
   "execution_count": 221,
   "metadata": {},
   "outputs": [],
   "source": [
    "VIF_results = pd.concat([pd.Series(features.columns), pd.Series(VIF)],axis=1)\n",
    "VIF_results.columns = ['Feature','VIF']\n",
    "VIF_results = VIF_results.sort_values('VIF',ascending=False)"
   ]
  },
  {
   "cell_type": "code",
   "execution_count": 222,
   "metadata": {},
   "outputs": [],
   "source": [
    "VIF_results2 = VIF_results.sort_values('VIF',ascending=True)"
   ]
  },
  {
   "cell_type": "code",
   "execution_count": 223,
   "metadata": {},
   "outputs": [
    {
     "data": {
      "text/html": [
       "<div>\n",
       "<style scoped>\n",
       "    .dataframe tbody tr th:only-of-type {\n",
       "        vertical-align: middle;\n",
       "    }\n",
       "\n",
       "    .dataframe tbody tr th {\n",
       "        vertical-align: top;\n",
       "    }\n",
       "\n",
       "    .dataframe thead th {\n",
       "        text-align: right;\n",
       "    }\n",
       "</style>\n",
       "<table border=\"1\" class=\"dataframe\">\n",
       "  <thead>\n",
       "    <tr style=\"text-align: right;\">\n",
       "      <th></th>\n",
       "      <th>Feature</th>\n",
       "      <th>VIF</th>\n",
       "    </tr>\n",
       "  </thead>\n",
       "  <tbody>\n",
       "    <tr>\n",
       "      <td>5</td>\n",
       "      <td>Home_Ownership_NONE</td>\n",
       "      <td>1.014079</td>\n",
       "    </tr>\n",
       "    <tr>\n",
       "      <td>20</td>\n",
       "      <td>Loan_Purpose_renewable_energy</td>\n",
       "      <td>1.102329</td>\n",
       "    </tr>\n",
       "    <tr>\n",
       "      <td>40</td>\n",
       "      <td>State_IN</td>\n",
       "      <td>1.219600</td>\n",
       "    </tr>\n",
       "    <tr>\n",
       "      <td>71</td>\n",
       "      <td>State_WY</td>\n",
       "      <td>1.259167</td>\n",
       "    </tr>\n",
       "    <tr>\n",
       "      <td>7</td>\n",
       "      <td>Home_Ownership_OWN</td>\n",
       "      <td>1.260485</td>\n",
       "    </tr>\n",
       "    <tr>\n",
       "      <td>63</td>\n",
       "      <td>State_SD</td>\n",
       "      <td>1.285235</td>\n",
       "    </tr>\n",
       "    <tr>\n",
       "      <td>13</td>\n",
       "      <td>Loan_Purpose_educational</td>\n",
       "      <td>1.302235</td>\n",
       "    </tr>\n",
       "    <tr>\n",
       "      <td>67</td>\n",
       "      <td>State_VT</td>\n",
       "      <td>1.344174</td>\n",
       "    </tr>\n",
       "    <tr>\n",
       "      <td>15</td>\n",
       "      <td>Loan_Purpose_house</td>\n",
       "      <td>1.396254</td>\n",
       "    </tr>\n",
       "    <tr>\n",
       "      <td>22</td>\n",
       "      <td>Loan_Purpose_vacation</td>\n",
       "      <td>1.403844</td>\n",
       "    </tr>\n",
       "  </tbody>\n",
       "</table>\n",
       "</div>"
      ],
      "text/plain": [
       "                          Feature       VIF\n",
       "5             Home_Ownership_NONE  1.014079\n",
       "20  Loan_Purpose_renewable_energy  1.102329\n",
       "40                       State_IN  1.219600\n",
       "71                       State_WY  1.259167\n",
       "7              Home_Ownership_OWN  1.260485\n",
       "63                       State_SD  1.285235\n",
       "13       Loan_Purpose_educational  1.302235\n",
       "67                       State_VT  1.344174\n",
       "15             Loan_Purpose_house  1.396254\n",
       "22          Loan_Purpose_vacation  1.403844"
      ]
     },
     "execution_count": 223,
     "metadata": {},
     "output_type": "execute_result"
    }
   ],
   "source": [
    "VIF_results2.head(10)"
   ]
  },
  {
   "cell_type": "code",
   "execution_count": 225,
   "metadata": {},
   "outputs": [],
   "source": [
    "Selected_vars = list(Selected_vars)"
   ]
  },
  {
   "cell_type": "code",
   "execution_count": 226,
   "metadata": {},
   "outputs": [],
   "source": [
    "data_new1 = data_new.loc[:,['Amount_Requested',\n",
    "'Loan_Length',\n",
    "'Debt_To_Income_Ratio',\n",
    "'Inquiries_in_the_Last_6_Months',\n",
    "'Fico_avg',\n",
    "'Loan_Purpose_debt_consolidation',\n",
    "'Loan_Purpose_major_purchase',\n",
    "'Loan_Purpose_home_improvement',\n",
    "'Home_Ownership_RENT',\n",
    "'Revolving_CREDIT_Balance',\n",
    "'Open_CREDIT_Lines',\n",
    "'Home_Ownership_NONE',\n",
    "'Home_Ownership_OTHER',\n",
    "'Loan_Purpose_credit_card',\n",
    "'Loan_Purpose_house',\n",
    "'Loan_Purpose_moving',\n",
    "'Loan_Purpose_other',\n",
    "'Loan_Purpose_small_business',\n",
    "'Loan_Purpose_vacation',\n",
    "'Loan_Purpose_wedding',\n",
    "'Loan_Purpose_educational',\n",
    "'Loan_Purpose_medical',\n",
    "'Loan_Purpose_renewable_energy',\n",
    "'Employment_Length']]"
   ]
  },
  {
   "cell_type": "code",
   "execution_count": 227,
   "metadata": {},
   "outputs": [
    {
     "data": {
      "text/html": [
       "<div>\n",
       "<style scoped>\n",
       "    .dataframe tbody tr th:only-of-type {\n",
       "        vertical-align: middle;\n",
       "    }\n",
       "\n",
       "    .dataframe tbody tr th {\n",
       "        vertical-align: top;\n",
       "    }\n",
       "\n",
       "    .dataframe thead th {\n",
       "        text-align: right;\n",
       "    }\n",
       "</style>\n",
       "<table border=\"1\" class=\"dataframe\">\n",
       "  <thead>\n",
       "    <tr style=\"text-align: right;\">\n",
       "      <th></th>\n",
       "      <th>Amount_Requested</th>\n",
       "      <th>Loan_Length</th>\n",
       "      <th>Debt_To_Income_Ratio</th>\n",
       "      <th>Inquiries_in_the_Last_6_Months</th>\n",
       "      <th>Fico_avg</th>\n",
       "      <th>Loan_Purpose_debt_consolidation</th>\n",
       "      <th>Loan_Purpose_major_purchase</th>\n",
       "      <th>Loan_Purpose_home_improvement</th>\n",
       "      <th>Home_Ownership_RENT</th>\n",
       "      <th>Revolving_CREDIT_Balance</th>\n",
       "      <th>...</th>\n",
       "      <th>Loan_Purpose_house</th>\n",
       "      <th>Loan_Purpose_moving</th>\n",
       "      <th>Loan_Purpose_other</th>\n",
       "      <th>Loan_Purpose_small_business</th>\n",
       "      <th>Loan_Purpose_vacation</th>\n",
       "      <th>Loan_Purpose_wedding</th>\n",
       "      <th>Loan_Purpose_educational</th>\n",
       "      <th>Loan_Purpose_medical</th>\n",
       "      <th>Loan_Purpose_renewable_energy</th>\n",
       "      <th>Employment_Length</th>\n",
       "    </tr>\n",
       "  </thead>\n",
       "  <tbody>\n",
       "    <tr>\n",
       "      <td>0</td>\n",
       "      <td>20000.0</td>\n",
       "      <td>36.0</td>\n",
       "      <td>14.90</td>\n",
       "      <td>2.0</td>\n",
       "      <td>737.0</td>\n",
       "      <td>1</td>\n",
       "      <td>0</td>\n",
       "      <td>0</td>\n",
       "      <td>0</td>\n",
       "      <td>14272.0</td>\n",
       "      <td>...</td>\n",
       "      <td>0</td>\n",
       "      <td>0</td>\n",
       "      <td>0</td>\n",
       "      <td>0</td>\n",
       "      <td>0</td>\n",
       "      <td>0</td>\n",
       "      <td>0</td>\n",
       "      <td>0</td>\n",
       "      <td>0</td>\n",
       "      <td>1.0</td>\n",
       "    </tr>\n",
       "    <tr>\n",
       "      <td>1</td>\n",
       "      <td>19200.0</td>\n",
       "      <td>36.0</td>\n",
       "      <td>28.36</td>\n",
       "      <td>1.0</td>\n",
       "      <td>717.0</td>\n",
       "      <td>1</td>\n",
       "      <td>0</td>\n",
       "      <td>0</td>\n",
       "      <td>0</td>\n",
       "      <td>11140.0</td>\n",
       "      <td>...</td>\n",
       "      <td>0</td>\n",
       "      <td>0</td>\n",
       "      <td>0</td>\n",
       "      <td>0</td>\n",
       "      <td>0</td>\n",
       "      <td>0</td>\n",
       "      <td>0</td>\n",
       "      <td>0</td>\n",
       "      <td>0</td>\n",
       "      <td>2.0</td>\n",
       "    </tr>\n",
       "    <tr>\n",
       "      <td>2</td>\n",
       "      <td>35000.0</td>\n",
       "      <td>60.0</td>\n",
       "      <td>23.81</td>\n",
       "      <td>1.0</td>\n",
       "      <td>692.0</td>\n",
       "      <td>1</td>\n",
       "      <td>0</td>\n",
       "      <td>0</td>\n",
       "      <td>0</td>\n",
       "      <td>21977.0</td>\n",
       "      <td>...</td>\n",
       "      <td>0</td>\n",
       "      <td>0</td>\n",
       "      <td>0</td>\n",
       "      <td>0</td>\n",
       "      <td>0</td>\n",
       "      <td>0</td>\n",
       "      <td>0</td>\n",
       "      <td>0</td>\n",
       "      <td>0</td>\n",
       "      <td>2.0</td>\n",
       "    </tr>\n",
       "    <tr>\n",
       "      <td>3</td>\n",
       "      <td>10000.0</td>\n",
       "      <td>36.0</td>\n",
       "      <td>14.30</td>\n",
       "      <td>0.0</td>\n",
       "      <td>697.0</td>\n",
       "      <td>1</td>\n",
       "      <td>0</td>\n",
       "      <td>0</td>\n",
       "      <td>0</td>\n",
       "      <td>9346.0</td>\n",
       "      <td>...</td>\n",
       "      <td>0</td>\n",
       "      <td>0</td>\n",
       "      <td>0</td>\n",
       "      <td>0</td>\n",
       "      <td>0</td>\n",
       "      <td>0</td>\n",
       "      <td>0</td>\n",
       "      <td>0</td>\n",
       "      <td>0</td>\n",
       "      <td>5.0</td>\n",
       "    </tr>\n",
       "    <tr>\n",
       "      <td>4</td>\n",
       "      <td>12000.0</td>\n",
       "      <td>36.0</td>\n",
       "      <td>18.78</td>\n",
       "      <td>0.0</td>\n",
       "      <td>697.0</td>\n",
       "      <td>0</td>\n",
       "      <td>0</td>\n",
       "      <td>0</td>\n",
       "      <td>1</td>\n",
       "      <td>14469.0</td>\n",
       "      <td>...</td>\n",
       "      <td>0</td>\n",
       "      <td>0</td>\n",
       "      <td>0</td>\n",
       "      <td>0</td>\n",
       "      <td>0</td>\n",
       "      <td>0</td>\n",
       "      <td>0</td>\n",
       "      <td>0</td>\n",
       "      <td>0</td>\n",
       "      <td>9.0</td>\n",
       "    </tr>\n",
       "  </tbody>\n",
       "</table>\n",
       "<p>5 rows × 24 columns</p>\n",
       "</div>"
      ],
      "text/plain": [
       "   Amount_Requested  Loan_Length  Debt_To_Income_Ratio  \\\n",
       "0           20000.0         36.0                 14.90   \n",
       "1           19200.0         36.0                 28.36   \n",
       "2           35000.0         60.0                 23.81   \n",
       "3           10000.0         36.0                 14.30   \n",
       "4           12000.0         36.0                 18.78   \n",
       "\n",
       "   Inquiries_in_the_Last_6_Months  Fico_avg  Loan_Purpose_debt_consolidation  \\\n",
       "0                             2.0     737.0                                1   \n",
       "1                             1.0     717.0                                1   \n",
       "2                             1.0     692.0                                1   \n",
       "3                             0.0     697.0                                1   \n",
       "4                             0.0     697.0                                0   \n",
       "\n",
       "   Loan_Purpose_major_purchase  Loan_Purpose_home_improvement  \\\n",
       "0                            0                              0   \n",
       "1                            0                              0   \n",
       "2                            0                              0   \n",
       "3                            0                              0   \n",
       "4                            0                              0   \n",
       "\n",
       "   Home_Ownership_RENT  Revolving_CREDIT_Balance  ...  Loan_Purpose_house  \\\n",
       "0                    0                   14272.0  ...                   0   \n",
       "1                    0                   11140.0  ...                   0   \n",
       "2                    0                   21977.0  ...                   0   \n",
       "3                    0                    9346.0  ...                   0   \n",
       "4                    1                   14469.0  ...                   0   \n",
       "\n",
       "   Loan_Purpose_moving  Loan_Purpose_other  Loan_Purpose_small_business  \\\n",
       "0                    0                   0                            0   \n",
       "1                    0                   0                            0   \n",
       "2                    0                   0                            0   \n",
       "3                    0                   0                            0   \n",
       "4                    0                   0                            0   \n",
       "\n",
       "   Loan_Purpose_vacation  Loan_Purpose_wedding  Loan_Purpose_educational  \\\n",
       "0                      0                     0                         0   \n",
       "1                      0                     0                         0   \n",
       "2                      0                     0                         0   \n",
       "3                      0                     0                         0   \n",
       "4                      0                     0                         0   \n",
       "\n",
       "   Loan_Purpose_medical  Loan_Purpose_renewable_energy  Employment_Length  \n",
       "0                     0                              0                1.0  \n",
       "1                     0                              0                2.0  \n",
       "2                     0                              0                2.0  \n",
       "3                     0                              0                5.0  \n",
       "4                     0                              0                9.0  \n",
       "\n",
       "[5 rows x 24 columns]"
      ]
     },
     "execution_count": 227,
     "metadata": {},
     "output_type": "execute_result"
    }
   ],
   "source": [
    "data_new1.head()"
   ]
  },
  {
   "cell_type": "code",
   "execution_count": 228,
   "metadata": {},
   "outputs": [
    {
     "data": {
      "text/plain": [
       "(2500, 24)"
      ]
     },
     "execution_count": 228,
     "metadata": {},
     "output_type": "execute_result"
    }
   ],
   "source": [
    "data_new1.shape"
   ]
  },
  {
   "cell_type": "code",
   "execution_count": 230,
   "metadata": {},
   "outputs": [],
   "source": [
    "data_new1['ln_Interest_Rate'] = data_new.ln_Y"
   ]
  },
  {
   "cell_type": "code",
   "execution_count": 231,
   "metadata": {},
   "outputs": [
    {
     "data": {
      "text/html": [
       "<div>\n",
       "<style scoped>\n",
       "    .dataframe tbody tr th:only-of-type {\n",
       "        vertical-align: middle;\n",
       "    }\n",
       "\n",
       "    .dataframe tbody tr th {\n",
       "        vertical-align: top;\n",
       "    }\n",
       "\n",
       "    .dataframe thead th {\n",
       "        text-align: right;\n",
       "    }\n",
       "</style>\n",
       "<table border=\"1\" class=\"dataframe\">\n",
       "  <thead>\n",
       "    <tr style=\"text-align: right;\">\n",
       "      <th></th>\n",
       "      <th>Amount_Requested</th>\n",
       "      <th>Loan_Length</th>\n",
       "      <th>Debt_To_Income_Ratio</th>\n",
       "      <th>Inquiries_in_the_Last_6_Months</th>\n",
       "      <th>Fico_avg</th>\n",
       "      <th>Loan_Purpose_debt_consolidation</th>\n",
       "      <th>Loan_Purpose_major_purchase</th>\n",
       "      <th>Loan_Purpose_home_improvement</th>\n",
       "      <th>Home_Ownership_RENT</th>\n",
       "      <th>Revolving_CREDIT_Balance</th>\n",
       "      <th>...</th>\n",
       "      <th>Loan_Purpose_moving</th>\n",
       "      <th>Loan_Purpose_other</th>\n",
       "      <th>Loan_Purpose_small_business</th>\n",
       "      <th>Loan_Purpose_vacation</th>\n",
       "      <th>Loan_Purpose_wedding</th>\n",
       "      <th>Loan_Purpose_educational</th>\n",
       "      <th>Loan_Purpose_medical</th>\n",
       "      <th>Loan_Purpose_renewable_energy</th>\n",
       "      <th>Employment_Length</th>\n",
       "      <th>ln_Interest_Rate</th>\n",
       "    </tr>\n",
       "  </thead>\n",
       "  <tbody>\n",
       "    <tr>\n",
       "      <td>0</td>\n",
       "      <td>20000.0</td>\n",
       "      <td>36.0</td>\n",
       "      <td>14.90</td>\n",
       "      <td>2.0</td>\n",
       "      <td>737.0</td>\n",
       "      <td>1</td>\n",
       "      <td>0</td>\n",
       "      <td>0</td>\n",
       "      <td>0</td>\n",
       "      <td>14272.0</td>\n",
       "      <td>...</td>\n",
       "      <td>0</td>\n",
       "      <td>0</td>\n",
       "      <td>0</td>\n",
       "      <td>0</td>\n",
       "      <td>0</td>\n",
       "      <td>0</td>\n",
       "      <td>0</td>\n",
       "      <td>0</td>\n",
       "      <td>1.0</td>\n",
       "      <td>2.186051</td>\n",
       "    </tr>\n",
       "    <tr>\n",
       "      <td>1</td>\n",
       "      <td>19200.0</td>\n",
       "      <td>36.0</td>\n",
       "      <td>28.36</td>\n",
       "      <td>1.0</td>\n",
       "      <td>717.0</td>\n",
       "      <td>1</td>\n",
       "      <td>0</td>\n",
       "      <td>0</td>\n",
       "      <td>0</td>\n",
       "      <td>11140.0</td>\n",
       "      <td>...</td>\n",
       "      <td>0</td>\n",
       "      <td>0</td>\n",
       "      <td>0</td>\n",
       "      <td>0</td>\n",
       "      <td>0</td>\n",
       "      <td>0</td>\n",
       "      <td>0</td>\n",
       "      <td>0</td>\n",
       "      <td>2.0</td>\n",
       "      <td>2.494857</td>\n",
       "    </tr>\n",
       "    <tr>\n",
       "      <td>2</td>\n",
       "      <td>35000.0</td>\n",
       "      <td>60.0</td>\n",
       "      <td>23.81</td>\n",
       "      <td>1.0</td>\n",
       "      <td>692.0</td>\n",
       "      <td>1</td>\n",
       "      <td>0</td>\n",
       "      <td>0</td>\n",
       "      <td>0</td>\n",
       "      <td>21977.0</td>\n",
       "      <td>...</td>\n",
       "      <td>0</td>\n",
       "      <td>0</td>\n",
       "      <td>0</td>\n",
       "      <td>0</td>\n",
       "      <td>0</td>\n",
       "      <td>0</td>\n",
       "      <td>0</td>\n",
       "      <td>0</td>\n",
       "      <td>2.0</td>\n",
       "      <td>3.090133</td>\n",
       "    </tr>\n",
       "    <tr>\n",
       "      <td>3</td>\n",
       "      <td>10000.0</td>\n",
       "      <td>36.0</td>\n",
       "      <td>14.30</td>\n",
       "      <td>0.0</td>\n",
       "      <td>697.0</td>\n",
       "      <td>1</td>\n",
       "      <td>0</td>\n",
       "      <td>0</td>\n",
       "      <td>0</td>\n",
       "      <td>9346.0</td>\n",
       "      <td>...</td>\n",
       "      <td>0</td>\n",
       "      <td>0</td>\n",
       "      <td>0</td>\n",
       "      <td>0</td>\n",
       "      <td>0</td>\n",
       "      <td>0</td>\n",
       "      <td>0</td>\n",
       "      <td>0</td>\n",
       "      <td>5.0</td>\n",
       "      <td>2.301585</td>\n",
       "    </tr>\n",
       "    <tr>\n",
       "      <td>4</td>\n",
       "      <td>12000.0</td>\n",
       "      <td>36.0</td>\n",
       "      <td>18.78</td>\n",
       "      <td>0.0</td>\n",
       "      <td>697.0</td>\n",
       "      <td>0</td>\n",
       "      <td>0</td>\n",
       "      <td>0</td>\n",
       "      <td>1</td>\n",
       "      <td>14469.0</td>\n",
       "      <td>...</td>\n",
       "      <td>0</td>\n",
       "      <td>0</td>\n",
       "      <td>0</td>\n",
       "      <td>0</td>\n",
       "      <td>0</td>\n",
       "      <td>0</td>\n",
       "      <td>0</td>\n",
       "      <td>0</td>\n",
       "      <td>9.0</td>\n",
       "      <td>2.460443</td>\n",
       "    </tr>\n",
       "  </tbody>\n",
       "</table>\n",
       "<p>5 rows × 25 columns</p>\n",
       "</div>"
      ],
      "text/plain": [
       "   Amount_Requested  Loan_Length  Debt_To_Income_Ratio  \\\n",
       "0           20000.0         36.0                 14.90   \n",
       "1           19200.0         36.0                 28.36   \n",
       "2           35000.0         60.0                 23.81   \n",
       "3           10000.0         36.0                 14.30   \n",
       "4           12000.0         36.0                 18.78   \n",
       "\n",
       "   Inquiries_in_the_Last_6_Months  Fico_avg  Loan_Purpose_debt_consolidation  \\\n",
       "0                             2.0     737.0                                1   \n",
       "1                             1.0     717.0                                1   \n",
       "2                             1.0     692.0                                1   \n",
       "3                             0.0     697.0                                1   \n",
       "4                             0.0     697.0                                0   \n",
       "\n",
       "   Loan_Purpose_major_purchase  Loan_Purpose_home_improvement  \\\n",
       "0                            0                              0   \n",
       "1                            0                              0   \n",
       "2                            0                              0   \n",
       "3                            0                              0   \n",
       "4                            0                              0   \n",
       "\n",
       "   Home_Ownership_RENT  Revolving_CREDIT_Balance  ...  Loan_Purpose_moving  \\\n",
       "0                    0                   14272.0  ...                    0   \n",
       "1                    0                   11140.0  ...                    0   \n",
       "2                    0                   21977.0  ...                    0   \n",
       "3                    0                    9346.0  ...                    0   \n",
       "4                    1                   14469.0  ...                    0   \n",
       "\n",
       "   Loan_Purpose_other  Loan_Purpose_small_business  Loan_Purpose_vacation  \\\n",
       "0                   0                            0                      0   \n",
       "1                   0                            0                      0   \n",
       "2                   0                            0                      0   \n",
       "3                   0                            0                      0   \n",
       "4                   0                            0                      0   \n",
       "\n",
       "   Loan_Purpose_wedding  Loan_Purpose_educational  Loan_Purpose_medical  \\\n",
       "0                     0                         0                     0   \n",
       "1                     0                         0                     0   \n",
       "2                     0                         0                     0   \n",
       "3                     0                         0                     0   \n",
       "4                     0                         0                     0   \n",
       "\n",
       "   Loan_Purpose_renewable_energy  Employment_Length  ln_Interest_Rate  \n",
       "0                              0                1.0          2.186051  \n",
       "1                              0                2.0          2.494857  \n",
       "2                              0                2.0          3.090133  \n",
       "3                              0                5.0          2.301585  \n",
       "4                              0                9.0          2.460443  \n",
       "\n",
       "[5 rows x 25 columns]"
      ]
     },
     "execution_count": 231,
     "metadata": {},
     "output_type": "execute_result"
    }
   ],
   "source": [
    "data_new1.head()"
   ]
  },
  {
   "cell_type": "code",
   "execution_count": 232,
   "metadata": {},
   "outputs": [
    {
     "name": "stdout",
     "output_type": "stream",
     "text": [
      "1750\n",
      "750\n"
     ]
    }
   ],
   "source": [
    "# Data Preparation IV (Resampling data)\n",
    "\n",
    "from sklearn.model_selection import train_test_split\n",
    "\n",
    "train, test = train_test_split( data_new1, test_size = 0.3, random_state = 1234 )\n",
    "\n",
    "print(len(train))\n",
    "print(len(test))"
   ]
  },
  {
   "cell_type": "markdown",
   "metadata": {},
   "source": [
    "## Model Implementation"
   ]
  },
  {
   "cell_type": "code",
   "execution_count": 233,
   "metadata": {},
   "outputs": [
    {
     "data": {
      "text/plain": [
       "Index(['Amount_Requested', 'Loan_Length', 'Debt_To_Income_Ratio',\n",
       "       'Inquiries_in_the_Last_6_Months', 'Fico_avg',\n",
       "       'Loan_Purpose_debt_consolidation', 'Loan_Purpose_major_purchase',\n",
       "       'Loan_Purpose_home_improvement', 'Home_Ownership_RENT',\n",
       "       'Revolving_CREDIT_Balance', 'Open_CREDIT_Lines', 'Home_Ownership_NONE',\n",
       "       'Home_Ownership_OTHER', 'Loan_Purpose_credit_card',\n",
       "       'Loan_Purpose_house', 'Loan_Purpose_moving', 'Loan_Purpose_other',\n",
       "       'Loan_Purpose_small_business', 'Loan_Purpose_vacation',\n",
       "       'Loan_Purpose_wedding', 'Loan_Purpose_educational',\n",
       "       'Loan_Purpose_medical', 'Loan_Purpose_renewable_energy',\n",
       "       'Employment_Length', 'ln_Interest_Rate'],\n",
       "      dtype='object')"
      ]
     },
     "execution_count": 233,
     "metadata": {},
     "output_type": "execute_result"
    }
   ],
   "source": [
    "data_new1.columns"
   ]
  },
  {
   "cell_type": "code",
   "execution_count": 234,
   "metadata": {},
   "outputs": [],
   "source": [
    "import statsmodels.formula.api as smf"
   ]
  },
  {
   "cell_type": "code",
   "execution_count": 235,
   "metadata": {},
   "outputs": [],
   "source": [
    "my_formula='ln_Interest_Rate~Amount_Requested+Loan_Length+Debt_To_Income_Ratio+Inquiries_in_the_Last_6_Months+Fico_avg+Loan_Purpose_debt_consolidation+Loan_Purpose_major_purchase+Loan_Purpose_home_improvement+Home_Ownership_RENT+Revolving_CREDIT_Balance+Open_CREDIT_Lines+Home_Ownership_NONE+Home_Ownership_OTHER+Loan_Purpose_credit_card+Loan_Purpose_house+Loan_Purpose_moving+Loan_Purpose_other+Loan_Purpose_small_business+Loan_Purpose_vacation+Loan_Purpose_wedding+Loan_Purpose_educational+Loan_Purpose_medical+Loan_Purpose_renewable_energy+Employment_Length'"
   ]
  },
  {
   "cell_type": "code",
   "execution_count": 236,
   "metadata": {},
   "outputs": [],
   "source": [
    "model=smf.ols(my_formula,data=train).fit()"
   ]
  },
  {
   "cell_type": "code",
   "execution_count": 237,
   "metadata": {},
   "outputs": [
    {
     "name": "stdout",
     "output_type": "stream",
     "text": [
      "                            OLS Regression Results                            \n",
      "==============================================================================\n",
      "Dep. Variable:       ln_Interest_Rate   R-squared:                       0.776\n",
      "Model:                            OLS   Adj. R-squared:                  0.774\n",
      "Method:                 Least Squares   F-statistic:                     260.7\n",
      "Date:                Sun, 08 Dec 2019   Prob (F-statistic):               0.00\n",
      "Time:                        10:16:35   Log-Likelihood:                 738.23\n",
      "No. Observations:                1750   AIC:                            -1428.\n",
      "Df Residuals:                    1726   BIC:                            -1297.\n",
      "Df Model:                          23                                         \n",
      "Covariance Type:            nonrobust                                         \n",
      "===================================================================================================\n",
      "                                      coef    std err          t      P>|t|      [0.025      0.975]\n",
      "---------------------------------------------------------------------------------------------------\n",
      "Intercept                           7.1826      0.096     74.642      0.000       6.994       7.371\n",
      "Amount_Requested                 1.263e-05   5.93e-07     21.310      0.000    1.15e-05    1.38e-05\n",
      "Loan_Length                         0.0096      0.000     22.832      0.000       0.009       0.010\n",
      "Debt_To_Income_Ratio                0.0004      0.001      0.642      0.521      -0.001       0.001\n",
      "Inquiries_in_the_Last_6_Months      0.0271      0.003      7.915      0.000       0.020       0.034\n",
      "Fico_avg                           -0.0073      0.000    -61.722      0.000      -0.008      -0.007\n",
      "Loan_Purpose_debt_consolidation    -0.0123      0.030     -0.415      0.678      -0.071       0.046\n",
      "Loan_Purpose_major_purchase         0.0283      0.035      0.809      0.419      -0.040       0.097\n",
      "Loan_Purpose_home_improvement      -0.0378      0.033     -1.154      0.249      -0.102       0.026\n",
      "Home_Ownership_RENT                 0.0075      0.008      0.894      0.371      -0.009       0.024\n",
      "Revolving_CREDIT_Balance        -6.031e-07   3.03e-07     -1.988      0.047    -1.2e-06   -7.95e-09\n",
      "Open_CREDIT_Lines                  -0.0047      0.001     -4.757      0.000      -0.007      -0.003\n",
      "Home_Ownership_NONE              7.407e-16   4.06e-17     18.244      0.000    6.61e-16     8.2e-16\n",
      "Home_Ownership_OTHER                0.0707      0.072      0.978      0.328      -0.071       0.213\n",
      "Loan_Purpose_credit_card           -0.0204      0.031     -0.667      0.505      -0.080       0.040\n",
      "Loan_Purpose_house                  0.0546      0.053      1.030      0.303      -0.049       0.158\n",
      "Loan_Purpose_moving                 0.0438      0.045      0.977      0.329      -0.044       0.132\n",
      "Loan_Purpose_other                  0.0374      0.032      1.168      0.243      -0.025       0.100\n",
      "Loan_Purpose_small_business         0.0033      0.035      0.094      0.925      -0.066       0.072\n",
      "Loan_Purpose_vacation               0.0245      0.050      0.485      0.628      -0.075       0.123\n",
      "Loan_Purpose_wedding               -0.0949      0.042     -2.266      0.024      -0.177      -0.013\n",
      "Loan_Purpose_educational            0.0485      0.055      0.887      0.375      -0.059       0.156\n",
      "Loan_Purpose_medical               -0.0476      0.045     -1.062      0.289      -0.136       0.040\n",
      "Loan_Purpose_renewable_energy      -0.0060      0.097     -0.062      0.951      -0.196       0.184\n",
      "Employment_Length                  -0.0003      0.001     -0.292      0.770      -0.003       0.002\n",
      "==============================================================================\n",
      "Omnibus:                       86.448   Durbin-Watson:                   2.032\n",
      "Prob(Omnibus):                  0.000   Jarque-Bera (JB):              287.468\n",
      "Skew:                           0.106   Prob(JB):                     3.78e-63\n",
      "Kurtosis:                       4.974   Cond. No.                     7.50e+20\n",
      "==============================================================================\n",
      "\n",
      "Warnings:\n",
      "[1] Standard Errors assume that the covariance matrix of the errors is correctly specified.\n",
      "[2] The smallest eigenvalue is 1.75e-30. This might indicate that there are\n",
      "strong multicollinearity problems or that the design matrix is singular.\n"
     ]
    }
   ],
   "source": [
    "print(model.summary())"
   ]
  },
  {
   "cell_type": "markdown",
   "metadata": {},
   "source": [
    "### Nelglecting the features which have p values > 0.05"
   ]
  },
  {
   "cell_type": "code",
   "execution_count": 239,
   "metadata": {},
   "outputs": [],
   "source": [
    "my_formula='ln_Interest_Rate~Amount_Requested+Loan_Length+Inquiries_in_the_Last_6_Months+Fico_avg+Revolving_CREDIT_Balance+Open_CREDIT_Lines+Loan_Purpose_wedding'"
   ]
  },
  {
   "cell_type": "code",
   "execution_count": 240,
   "metadata": {},
   "outputs": [
    {
     "name": "stdout",
     "output_type": "stream",
     "text": [
      "                            OLS Regression Results                            \n",
      "==============================================================================\n",
      "Dep. Variable:       ln_Interest_Rate   R-squared:                       0.772\n",
      "Model:                            OLS   Adj. R-squared:                  0.772\n",
      "Method:                 Least Squares   F-statistic:                     844.9\n",
      "Date:                Sun, 08 Dec 2019   Prob (F-statistic):               0.00\n",
      "Time:                        10:21:23   Log-Likelihood:                 722.68\n",
      "No. Observations:                1750   AIC:                            -1429.\n",
      "Df Residuals:                    1742   BIC:                            -1386.\n",
      "Df Model:                           7                                         \n",
      "Covariance Type:            nonrobust                                         \n",
      "==================================================================================================\n",
      "                                     coef    std err          t      P>|t|      [0.025      0.975]\n",
      "--------------------------------------------------------------------------------------------------\n",
      "Intercept                          7.1979      0.083     86.743      0.000       7.035       7.361\n",
      "Amount_Requested                1.206e-05    5.7e-07     21.168      0.000    1.09e-05    1.32e-05\n",
      "Loan_Length                        0.0097      0.000     23.094      0.000       0.009       0.011\n",
      "Inquiries_in_the_Last_6_Months     0.0275      0.003      8.112      0.000       0.021       0.034\n",
      "Fico_avg                          -0.0073      0.000    -65.255      0.000      -0.008      -0.007\n",
      "Revolving_CREDIT_Balance        -6.11e-07   2.94e-07     -2.076      0.038   -1.19e-06   -3.36e-08\n",
      "Open_CREDIT_Lines                 -0.0049      0.001     -5.307      0.000      -0.007      -0.003\n",
      "Loan_Purpose_wedding              -0.0881      0.031     -2.876      0.004      -0.148      -0.028\n",
      "==============================================================================\n",
      "Omnibus:                      100.515   Durbin-Watson:                   2.019\n",
      "Prob(Omnibus):                  0.000   Jarque-Bera (JB):              374.693\n",
      "Skew:                           0.123   Prob(JB):                     4.33e-82\n",
      "Kurtosis:                       5.253   Cond. No.                     5.14e+05\n",
      "==============================================================================\n",
      "\n",
      "Warnings:\n",
      "[1] Standard Errors assume that the covariance matrix of the errors is correctly specified.\n",
      "[2] The condition number is large, 5.14e+05. This might indicate that there are\n",
      "strong multicollinearity or other numerical problems.\n"
     ]
    }
   ],
   "source": [
    "model = smf.ols(my_formula, data=train).fit()\n",
    "print(model.summary())"
   ]
  },
  {
   "cell_type": "markdown",
   "metadata": {},
   "source": [
    "### POST MODELING\n",
    "### Model Validation\n",
    "### Predciting the Y on the train dataset"
   ]
  },
  {
   "cell_type": "code",
   "execution_count": 245,
   "metadata": {},
   "outputs": [],
   "source": [
    "train['pred']=pd.DataFrame(np.exp(model.predict(train)))"
   ]
  },
  {
   "cell_type": "code",
   "execution_count": 246,
   "metadata": {},
   "outputs": [
    {
     "data": {
      "text/html": [
       "<div>\n",
       "<style scoped>\n",
       "    .dataframe tbody tr th:only-of-type {\n",
       "        vertical-align: middle;\n",
       "    }\n",
       "\n",
       "    .dataframe tbody tr th {\n",
       "        vertical-align: top;\n",
       "    }\n",
       "\n",
       "    .dataframe thead th {\n",
       "        text-align: right;\n",
       "    }\n",
       "</style>\n",
       "<table border=\"1\" class=\"dataframe\">\n",
       "  <thead>\n",
       "    <tr style=\"text-align: right;\">\n",
       "      <th></th>\n",
       "      <th>Amount_Requested</th>\n",
       "      <th>Loan_Length</th>\n",
       "      <th>Debt_To_Income_Ratio</th>\n",
       "      <th>Inquiries_in_the_Last_6_Months</th>\n",
       "      <th>Fico_avg</th>\n",
       "      <th>Loan_Purpose_debt_consolidation</th>\n",
       "      <th>Loan_Purpose_major_purchase</th>\n",
       "      <th>Loan_Purpose_home_improvement</th>\n",
       "      <th>Home_Ownership_RENT</th>\n",
       "      <th>Revolving_CREDIT_Balance</th>\n",
       "      <th>...</th>\n",
       "      <th>Loan_Purpose_other</th>\n",
       "      <th>Loan_Purpose_small_business</th>\n",
       "      <th>Loan_Purpose_vacation</th>\n",
       "      <th>Loan_Purpose_wedding</th>\n",
       "      <th>Loan_Purpose_educational</th>\n",
       "      <th>Loan_Purpose_medical</th>\n",
       "      <th>Loan_Purpose_renewable_energy</th>\n",
       "      <th>Employment_Length</th>\n",
       "      <th>ln_Interest_Rate</th>\n",
       "      <th>pred</th>\n",
       "    </tr>\n",
       "  </thead>\n",
       "  <tbody>\n",
       "    <tr>\n",
       "      <td>42</td>\n",
       "      <td>5500.0</td>\n",
       "      <td>36.0</td>\n",
       "      <td>3.58</td>\n",
       "      <td>1.0</td>\n",
       "      <td>662.0</td>\n",
       "      <td>0</td>\n",
       "      <td>0</td>\n",
       "      <td>0</td>\n",
       "      <td>1</td>\n",
       "      <td>0.0</td>\n",
       "      <td>...</td>\n",
       "      <td>0</td>\n",
       "      <td>0</td>\n",
       "      <td>0</td>\n",
       "      <td>0</td>\n",
       "      <td>0</td>\n",
       "      <td>0</td>\n",
       "      <td>0</td>\n",
       "      <td>8.0</td>\n",
       "      <td>2.951258</td>\n",
       "      <td>15.943190</td>\n",
       "    </tr>\n",
       "    <tr>\n",
       "      <td>108</td>\n",
       "      <td>10000.0</td>\n",
       "      <td>36.0</td>\n",
       "      <td>10.59</td>\n",
       "      <td>3.0</td>\n",
       "      <td>692.0</td>\n",
       "      <td>1</td>\n",
       "      <td>0</td>\n",
       "      <td>0</td>\n",
       "      <td>1</td>\n",
       "      <td>10390.0</td>\n",
       "      <td>...</td>\n",
       "      <td>0</td>\n",
       "      <td>0</td>\n",
       "      <td>0</td>\n",
       "      <td>0</td>\n",
       "      <td>0</td>\n",
       "      <td>0</td>\n",
       "      <td>0</td>\n",
       "      <td>1.0</td>\n",
       "      <td>2.645465</td>\n",
       "      <td>13.769027</td>\n",
       "    </tr>\n",
       "    <tr>\n",
       "      <td>1577</td>\n",
       "      <td>8000.0</td>\n",
       "      <td>36.0</td>\n",
       "      <td>8.91</td>\n",
       "      <td>0.0</td>\n",
       "      <td>757.0</td>\n",
       "      <td>0</td>\n",
       "      <td>0</td>\n",
       "      <td>0</td>\n",
       "      <td>1</td>\n",
       "      <td>680.0</td>\n",
       "      <td>...</td>\n",
       "      <td>0</td>\n",
       "      <td>0</td>\n",
       "      <td>0</td>\n",
       "      <td>0</td>\n",
       "      <td>0</td>\n",
       "      <td>1</td>\n",
       "      <td>0</td>\n",
       "      <td>6.0</td>\n",
       "      <td>2.066863</td>\n",
       "      <td>7.919326</td>\n",
       "    </tr>\n",
       "    <tr>\n",
       "      <td>237</td>\n",
       "      <td>12375.0</td>\n",
       "      <td>36.0</td>\n",
       "      <td>22.42</td>\n",
       "      <td>0.0</td>\n",
       "      <td>682.0</td>\n",
       "      <td>1</td>\n",
       "      <td>0</td>\n",
       "      <td>0</td>\n",
       "      <td>0</td>\n",
       "      <td>12226.0</td>\n",
       "      <td>...</td>\n",
       "      <td>0</td>\n",
       "      <td>0</td>\n",
       "      <td>0</td>\n",
       "      <td>0</td>\n",
       "      <td>0</td>\n",
       "      <td>0</td>\n",
       "      <td>0</td>\n",
       "      <td>3.0</td>\n",
       "      <td>2.615204</td>\n",
       "      <td>14.092818</td>\n",
       "    </tr>\n",
       "    <tr>\n",
       "      <td>1436</td>\n",
       "      <td>3200.0</td>\n",
       "      <td>36.0</td>\n",
       "      <td>16.72</td>\n",
       "      <td>4.0</td>\n",
       "      <td>667.0</td>\n",
       "      <td>0</td>\n",
       "      <td>0</td>\n",
       "      <td>0</td>\n",
       "      <td>0</td>\n",
       "      <td>80837.0</td>\n",
       "      <td>...</td>\n",
       "      <td>0</td>\n",
       "      <td>0</td>\n",
       "      <td>0</td>\n",
       "      <td>0</td>\n",
       "      <td>0</td>\n",
       "      <td>0</td>\n",
       "      <td>0</td>\n",
       "      <td>10.0</td>\n",
       "      <td>2.534490</td>\n",
       "      <td>14.640030</td>\n",
       "    </tr>\n",
       "  </tbody>\n",
       "</table>\n",
       "<p>5 rows × 26 columns</p>\n",
       "</div>"
      ],
      "text/plain": [
       "      Amount_Requested  Loan_Length  Debt_To_Income_Ratio  \\\n",
       "42              5500.0         36.0                  3.58   \n",
       "108            10000.0         36.0                 10.59   \n",
       "1577            8000.0         36.0                  8.91   \n",
       "237            12375.0         36.0                 22.42   \n",
       "1436            3200.0         36.0                 16.72   \n",
       "\n",
       "      Inquiries_in_the_Last_6_Months  Fico_avg  \\\n",
       "42                               1.0     662.0   \n",
       "108                              3.0     692.0   \n",
       "1577                             0.0     757.0   \n",
       "237                              0.0     682.0   \n",
       "1436                             4.0     667.0   \n",
       "\n",
       "      Loan_Purpose_debt_consolidation  Loan_Purpose_major_purchase  \\\n",
       "42                                  0                            0   \n",
       "108                                 1                            0   \n",
       "1577                                0                            0   \n",
       "237                                 1                            0   \n",
       "1436                                0                            0   \n",
       "\n",
       "      Loan_Purpose_home_improvement  Home_Ownership_RENT  \\\n",
       "42                                0                    1   \n",
       "108                               0                    1   \n",
       "1577                              0                    1   \n",
       "237                               0                    0   \n",
       "1436                              0                    0   \n",
       "\n",
       "      Revolving_CREDIT_Balance  ...  Loan_Purpose_other  \\\n",
       "42                         0.0  ...                   0   \n",
       "108                    10390.0  ...                   0   \n",
       "1577                     680.0  ...                   0   \n",
       "237                    12226.0  ...                   0   \n",
       "1436                   80837.0  ...                   0   \n",
       "\n",
       "      Loan_Purpose_small_business  Loan_Purpose_vacation  \\\n",
       "42                              0                      0   \n",
       "108                             0                      0   \n",
       "1577                            0                      0   \n",
       "237                             0                      0   \n",
       "1436                            0                      0   \n",
       "\n",
       "      Loan_Purpose_wedding  Loan_Purpose_educational  Loan_Purpose_medical  \\\n",
       "42                       0                         0                     0   \n",
       "108                      0                         0                     0   \n",
       "1577                     0                         0                     1   \n",
       "237                      0                         0                     0   \n",
       "1436                     0                         0                     0   \n",
       "\n",
       "      Loan_Purpose_renewable_energy  Employment_Length  ln_Interest_Rate  \\\n",
       "42                                0                8.0          2.951258   \n",
       "108                               0                1.0          2.645465   \n",
       "1577                              0                6.0          2.066863   \n",
       "237                               0                3.0          2.615204   \n",
       "1436                              0               10.0          2.534490   \n",
       "\n",
       "           pred  \n",
       "42    15.943190  \n",
       "108   13.769027  \n",
       "1577   7.919326  \n",
       "237   14.092818  \n",
       "1436  14.640030  \n",
       "\n",
       "[5 rows x 26 columns]"
      ]
     },
     "execution_count": 246,
     "metadata": {},
     "output_type": "execute_result"
    }
   ],
   "source": [
    "train.head()"
   ]
  },
  {
   "cell_type": "code",
   "execution_count": 247,
   "metadata": {},
   "outputs": [
    {
     "data": {
      "text/html": [
       "<div>\n",
       "<style scoped>\n",
       "    .dataframe tbody tr th:only-of-type {\n",
       "        vertical-align: middle;\n",
       "    }\n",
       "\n",
       "    .dataframe tbody tr th {\n",
       "        vertical-align: top;\n",
       "    }\n",
       "\n",
       "    .dataframe thead th {\n",
       "        text-align: right;\n",
       "    }\n",
       "</style>\n",
       "<table border=\"1\" class=\"dataframe\">\n",
       "  <thead>\n",
       "    <tr style=\"text-align: right;\">\n",
       "      <th></th>\n",
       "      <th>Amount_Requested</th>\n",
       "      <th>Loan_Length</th>\n",
       "      <th>Debt_To_Income_Ratio</th>\n",
       "      <th>Inquiries_in_the_Last_6_Months</th>\n",
       "      <th>Fico_avg</th>\n",
       "      <th>Loan_Purpose_debt_consolidation</th>\n",
       "      <th>Loan_Purpose_major_purchase</th>\n",
       "      <th>Loan_Purpose_home_improvement</th>\n",
       "      <th>Home_Ownership_RENT</th>\n",
       "      <th>Revolving_CREDIT_Balance</th>\n",
       "      <th>...</th>\n",
       "      <th>Loan_Purpose_other</th>\n",
       "      <th>Loan_Purpose_small_business</th>\n",
       "      <th>Loan_Purpose_vacation</th>\n",
       "      <th>Loan_Purpose_wedding</th>\n",
       "      <th>Loan_Purpose_educational</th>\n",
       "      <th>Loan_Purpose_medical</th>\n",
       "      <th>Loan_Purpose_renewable_energy</th>\n",
       "      <th>Employment_Length</th>\n",
       "      <th>ln_Interest_Rate</th>\n",
       "      <th>pred</th>\n",
       "    </tr>\n",
       "  </thead>\n",
       "  <tbody>\n",
       "    <tr>\n",
       "      <td>903</td>\n",
       "      <td>12500.0</td>\n",
       "      <td>36.0</td>\n",
       "      <td>11.71</td>\n",
       "      <td>0.0</td>\n",
       "      <td>782.0</td>\n",
       "      <td>0</td>\n",
       "      <td>0</td>\n",
       "      <td>1</td>\n",
       "      <td>0</td>\n",
       "      <td>1052.0</td>\n",
       "      <td>...</td>\n",
       "      <td>0</td>\n",
       "      <td>0</td>\n",
       "      <td>0</td>\n",
       "      <td>0</td>\n",
       "      <td>0</td>\n",
       "      <td>0</td>\n",
       "      <td>0</td>\n",
       "      <td>2.0</td>\n",
       "      <td>2.232163</td>\n",
       "      <td>6.856472</td>\n",
       "    </tr>\n",
       "    <tr>\n",
       "      <td>674</td>\n",
       "      <td>2500.0</td>\n",
       "      <td>36.0</td>\n",
       "      <td>24.07</td>\n",
       "      <td>3.0</td>\n",
       "      <td>667.0</td>\n",
       "      <td>0</td>\n",
       "      <td>1</td>\n",
       "      <td>0</td>\n",
       "      <td>0</td>\n",
       "      <td>2684.0</td>\n",
       "      <td>...</td>\n",
       "      <td>0</td>\n",
       "      <td>0</td>\n",
       "      <td>0</td>\n",
       "      <td>0</td>\n",
       "      <td>0</td>\n",
       "      <td>0</td>\n",
       "      <td>0</td>\n",
       "      <td>1.0</td>\n",
       "      <td>2.769459</td>\n",
       "      <td>15.107493</td>\n",
       "    </tr>\n",
       "    <tr>\n",
       "      <td>1624</td>\n",
       "      <td>21700.0</td>\n",
       "      <td>36.0</td>\n",
       "      <td>13.93</td>\n",
       "      <td>2.0</td>\n",
       "      <td>697.0</td>\n",
       "      <td>0</td>\n",
       "      <td>0</td>\n",
       "      <td>0</td>\n",
       "      <td>0</td>\n",
       "      <td>8795.0</td>\n",
       "      <td>...</td>\n",
       "      <td>0</td>\n",
       "      <td>0</td>\n",
       "      <td>0</td>\n",
       "      <td>0</td>\n",
       "      <td>0</td>\n",
       "      <td>0</td>\n",
       "      <td>0</td>\n",
       "      <td>5.0</td>\n",
       "      <td>2.728506</td>\n",
       "      <td>15.105154</td>\n",
       "    </tr>\n",
       "    <tr>\n",
       "      <td>1214</td>\n",
       "      <td>21000.0</td>\n",
       "      <td>60.0</td>\n",
       "      <td>11.27</td>\n",
       "      <td>0.0</td>\n",
       "      <td>712.0</td>\n",
       "      <td>1</td>\n",
       "      <td>0</td>\n",
       "      <td>0</td>\n",
       "      <td>0</td>\n",
       "      <td>19431.0</td>\n",
       "      <td>...</td>\n",
       "      <td>0</td>\n",
       "      <td>0</td>\n",
       "      <td>0</td>\n",
       "      <td>0</td>\n",
       "      <td>0</td>\n",
       "      <td>0</td>\n",
       "      <td>0</td>\n",
       "      <td>8.0</td>\n",
       "      <td>2.658159</td>\n",
       "      <td>15.768187</td>\n",
       "    </tr>\n",
       "    <tr>\n",
       "      <td>2164</td>\n",
       "      <td>4400.0</td>\n",
       "      <td>36.0</td>\n",
       "      <td>17.93</td>\n",
       "      <td>1.0</td>\n",
       "      <td>767.0</td>\n",
       "      <td>0</td>\n",
       "      <td>1</td>\n",
       "      <td>0</td>\n",
       "      <td>0</td>\n",
       "      <td>9945.0</td>\n",
       "      <td>...</td>\n",
       "      <td>0</td>\n",
       "      <td>0</td>\n",
       "      <td>0</td>\n",
       "      <td>0</td>\n",
       "      <td>0</td>\n",
       "      <td>0</td>\n",
       "      <td>0</td>\n",
       "      <td>5.0</td>\n",
       "      <td>1.790091</td>\n",
       "      <td>7.131724</td>\n",
       "    </tr>\n",
       "  </tbody>\n",
       "</table>\n",
       "<p>5 rows × 26 columns</p>\n",
       "</div>"
      ],
      "text/plain": [
       "      Amount_Requested  Loan_Length  Debt_To_Income_Ratio  \\\n",
       "903            12500.0         36.0                 11.71   \n",
       "674             2500.0         36.0                 24.07   \n",
       "1624           21700.0         36.0                 13.93   \n",
       "1214           21000.0         60.0                 11.27   \n",
       "2164            4400.0         36.0                 17.93   \n",
       "\n",
       "      Inquiries_in_the_Last_6_Months  Fico_avg  \\\n",
       "903                              0.0     782.0   \n",
       "674                              3.0     667.0   \n",
       "1624                             2.0     697.0   \n",
       "1214                             0.0     712.0   \n",
       "2164                             1.0     767.0   \n",
       "\n",
       "      Loan_Purpose_debt_consolidation  Loan_Purpose_major_purchase  \\\n",
       "903                                 0                            0   \n",
       "674                                 0                            1   \n",
       "1624                                0                            0   \n",
       "1214                                1                            0   \n",
       "2164                                0                            1   \n",
       "\n",
       "      Loan_Purpose_home_improvement  Home_Ownership_RENT  \\\n",
       "903                               1                    0   \n",
       "674                               0                    0   \n",
       "1624                              0                    0   \n",
       "1214                              0                    0   \n",
       "2164                              0                    0   \n",
       "\n",
       "      Revolving_CREDIT_Balance  ...  Loan_Purpose_other  \\\n",
       "903                     1052.0  ...                   0   \n",
       "674                     2684.0  ...                   0   \n",
       "1624                    8795.0  ...                   0   \n",
       "1214                   19431.0  ...                   0   \n",
       "2164                    9945.0  ...                   0   \n",
       "\n",
       "      Loan_Purpose_small_business  Loan_Purpose_vacation  \\\n",
       "903                             0                      0   \n",
       "674                             0                      0   \n",
       "1624                            0                      0   \n",
       "1214                            0                      0   \n",
       "2164                            0                      0   \n",
       "\n",
       "      Loan_Purpose_wedding  Loan_Purpose_educational  Loan_Purpose_medical  \\\n",
       "903                      0                         0                     0   \n",
       "674                      0                         0                     0   \n",
       "1624                     0                         0                     0   \n",
       "1214                     0                         0                     0   \n",
       "2164                     0                         0                     0   \n",
       "\n",
       "      Loan_Purpose_renewable_energy  Employment_Length  ln_Interest_Rate  \\\n",
       "903                               0                2.0          2.232163   \n",
       "674                               0                1.0          2.769459   \n",
       "1624                              0                5.0          2.728506   \n",
       "1214                              0                8.0          2.658159   \n",
       "2164                              0                5.0          1.790091   \n",
       "\n",
       "           pred  \n",
       "903    6.856472  \n",
       "674   15.107493  \n",
       "1624  15.105154  \n",
       "1214  15.768187  \n",
       "2164   7.131724  \n",
       "\n",
       "[5 rows x 26 columns]"
      ]
     },
     "execution_count": 247,
     "metadata": {},
     "output_type": "execute_result"
    }
   ],
   "source": [
    "test['pred'] = pd.DataFrame(np.exp(model.predict(test)))\n",
    "test.head()"
   ]
  },
  {
   "cell_type": "code",
   "execution_count": 248,
   "metadata": {},
   "outputs": [],
   "source": [
    "test['Interest_Rate'] = np.exp(test.ln_Interest_Rate)"
   ]
  },
  {
   "cell_type": "code",
   "execution_count": 251,
   "metadata": {},
   "outputs": [],
   "source": [
    "train['Interest_Rate'] = np.exp(train.ln_Interest_Rate)"
   ]
  },
  {
   "cell_type": "code",
   "execution_count": 252,
   "metadata": {},
   "outputs": [
    {
     "data": {
      "text/html": [
       "<div>\n",
       "<style scoped>\n",
       "    .dataframe tbody tr th:only-of-type {\n",
       "        vertical-align: middle;\n",
       "    }\n",
       "\n",
       "    .dataframe tbody tr th {\n",
       "        vertical-align: top;\n",
       "    }\n",
       "\n",
       "    .dataframe thead th {\n",
       "        text-align: right;\n",
       "    }\n",
       "</style>\n",
       "<table border=\"1\" class=\"dataframe\">\n",
       "  <thead>\n",
       "    <tr style=\"text-align: right;\">\n",
       "      <th></th>\n",
       "      <th>Amount_Requested</th>\n",
       "      <th>Loan_Length</th>\n",
       "      <th>Debt_To_Income_Ratio</th>\n",
       "      <th>Inquiries_in_the_Last_6_Months</th>\n",
       "      <th>Fico_avg</th>\n",
       "      <th>Loan_Purpose_debt_consolidation</th>\n",
       "      <th>Loan_Purpose_major_purchase</th>\n",
       "      <th>Loan_Purpose_home_improvement</th>\n",
       "      <th>Home_Ownership_RENT</th>\n",
       "      <th>Revolving_CREDIT_Balance</th>\n",
       "      <th>...</th>\n",
       "      <th>Loan_Purpose_small_business</th>\n",
       "      <th>Loan_Purpose_vacation</th>\n",
       "      <th>Loan_Purpose_wedding</th>\n",
       "      <th>Loan_Purpose_educational</th>\n",
       "      <th>Loan_Purpose_medical</th>\n",
       "      <th>Loan_Purpose_renewable_energy</th>\n",
       "      <th>Employment_Length</th>\n",
       "      <th>ln_Interest_Rate</th>\n",
       "      <th>pred</th>\n",
       "      <th>Interest_Rate</th>\n",
       "    </tr>\n",
       "  </thead>\n",
       "  <tbody>\n",
       "    <tr>\n",
       "      <td>42</td>\n",
       "      <td>5500.0</td>\n",
       "      <td>36.0</td>\n",
       "      <td>3.58</td>\n",
       "      <td>1.0</td>\n",
       "      <td>662.0</td>\n",
       "      <td>0</td>\n",
       "      <td>0</td>\n",
       "      <td>0</td>\n",
       "      <td>1</td>\n",
       "      <td>0.0</td>\n",
       "      <td>...</td>\n",
       "      <td>0</td>\n",
       "      <td>0</td>\n",
       "      <td>0</td>\n",
       "      <td>0</td>\n",
       "      <td>0</td>\n",
       "      <td>0</td>\n",
       "      <td>8.0</td>\n",
       "      <td>2.951258</td>\n",
       "      <td>15.943190</td>\n",
       "      <td>19.13</td>\n",
       "    </tr>\n",
       "    <tr>\n",
       "      <td>108</td>\n",
       "      <td>10000.0</td>\n",
       "      <td>36.0</td>\n",
       "      <td>10.59</td>\n",
       "      <td>3.0</td>\n",
       "      <td>692.0</td>\n",
       "      <td>1</td>\n",
       "      <td>0</td>\n",
       "      <td>0</td>\n",
       "      <td>1</td>\n",
       "      <td>10390.0</td>\n",
       "      <td>...</td>\n",
       "      <td>0</td>\n",
       "      <td>0</td>\n",
       "      <td>0</td>\n",
       "      <td>0</td>\n",
       "      <td>0</td>\n",
       "      <td>0</td>\n",
       "      <td>1.0</td>\n",
       "      <td>2.645465</td>\n",
       "      <td>13.769027</td>\n",
       "      <td>14.09</td>\n",
       "    </tr>\n",
       "    <tr>\n",
       "      <td>1577</td>\n",
       "      <td>8000.0</td>\n",
       "      <td>36.0</td>\n",
       "      <td>8.91</td>\n",
       "      <td>0.0</td>\n",
       "      <td>757.0</td>\n",
       "      <td>0</td>\n",
       "      <td>0</td>\n",
       "      <td>0</td>\n",
       "      <td>1</td>\n",
       "      <td>680.0</td>\n",
       "      <td>...</td>\n",
       "      <td>0</td>\n",
       "      <td>0</td>\n",
       "      <td>0</td>\n",
       "      <td>0</td>\n",
       "      <td>1</td>\n",
       "      <td>0</td>\n",
       "      <td>6.0</td>\n",
       "      <td>2.066863</td>\n",
       "      <td>7.919326</td>\n",
       "      <td>7.90</td>\n",
       "    </tr>\n",
       "    <tr>\n",
       "      <td>237</td>\n",
       "      <td>12375.0</td>\n",
       "      <td>36.0</td>\n",
       "      <td>22.42</td>\n",
       "      <td>0.0</td>\n",
       "      <td>682.0</td>\n",
       "      <td>1</td>\n",
       "      <td>0</td>\n",
       "      <td>0</td>\n",
       "      <td>0</td>\n",
       "      <td>12226.0</td>\n",
       "      <td>...</td>\n",
       "      <td>0</td>\n",
       "      <td>0</td>\n",
       "      <td>0</td>\n",
       "      <td>0</td>\n",
       "      <td>0</td>\n",
       "      <td>0</td>\n",
       "      <td>3.0</td>\n",
       "      <td>2.615204</td>\n",
       "      <td>14.092818</td>\n",
       "      <td>13.67</td>\n",
       "    </tr>\n",
       "    <tr>\n",
       "      <td>1436</td>\n",
       "      <td>3200.0</td>\n",
       "      <td>36.0</td>\n",
       "      <td>16.72</td>\n",
       "      <td>4.0</td>\n",
       "      <td>667.0</td>\n",
       "      <td>0</td>\n",
       "      <td>0</td>\n",
       "      <td>0</td>\n",
       "      <td>0</td>\n",
       "      <td>80837.0</td>\n",
       "      <td>...</td>\n",
       "      <td>0</td>\n",
       "      <td>0</td>\n",
       "      <td>0</td>\n",
       "      <td>0</td>\n",
       "      <td>0</td>\n",
       "      <td>0</td>\n",
       "      <td>10.0</td>\n",
       "      <td>2.534490</td>\n",
       "      <td>14.640030</td>\n",
       "      <td>12.61</td>\n",
       "    </tr>\n",
       "  </tbody>\n",
       "</table>\n",
       "<p>5 rows × 27 columns</p>\n",
       "</div>"
      ],
      "text/plain": [
       "      Amount_Requested  Loan_Length  Debt_To_Income_Ratio  \\\n",
       "42              5500.0         36.0                  3.58   \n",
       "108            10000.0         36.0                 10.59   \n",
       "1577            8000.0         36.0                  8.91   \n",
       "237            12375.0         36.0                 22.42   \n",
       "1436            3200.0         36.0                 16.72   \n",
       "\n",
       "      Inquiries_in_the_Last_6_Months  Fico_avg  \\\n",
       "42                               1.0     662.0   \n",
       "108                              3.0     692.0   \n",
       "1577                             0.0     757.0   \n",
       "237                              0.0     682.0   \n",
       "1436                             4.0     667.0   \n",
       "\n",
       "      Loan_Purpose_debt_consolidation  Loan_Purpose_major_purchase  \\\n",
       "42                                  0                            0   \n",
       "108                                 1                            0   \n",
       "1577                                0                            0   \n",
       "237                                 1                            0   \n",
       "1436                                0                            0   \n",
       "\n",
       "      Loan_Purpose_home_improvement  Home_Ownership_RENT  \\\n",
       "42                                0                    1   \n",
       "108                               0                    1   \n",
       "1577                              0                    1   \n",
       "237                               0                    0   \n",
       "1436                              0                    0   \n",
       "\n",
       "      Revolving_CREDIT_Balance  ...  Loan_Purpose_small_business  \\\n",
       "42                         0.0  ...                            0   \n",
       "108                    10390.0  ...                            0   \n",
       "1577                     680.0  ...                            0   \n",
       "237                    12226.0  ...                            0   \n",
       "1436                   80837.0  ...                            0   \n",
       "\n",
       "      Loan_Purpose_vacation  Loan_Purpose_wedding  Loan_Purpose_educational  \\\n",
       "42                        0                     0                         0   \n",
       "108                       0                     0                         0   \n",
       "1577                      0                     0                         0   \n",
       "237                       0                     0                         0   \n",
       "1436                      0                     0                         0   \n",
       "\n",
       "      Loan_Purpose_medical  Loan_Purpose_renewable_energy  Employment_Length  \\\n",
       "42                       0                              0                8.0   \n",
       "108                      0                              0                1.0   \n",
       "1577                     1                              0                6.0   \n",
       "237                      0                              0                3.0   \n",
       "1436                     0                              0               10.0   \n",
       "\n",
       "      ln_Interest_Rate       pred  Interest_Rate  \n",
       "42            2.951258  15.943190          19.13  \n",
       "108           2.645465  13.769027          14.09  \n",
       "1577          2.066863   7.919326           7.90  \n",
       "237           2.615204  14.092818          13.67  \n",
       "1436          2.534490  14.640030          12.61  \n",
       "\n",
       "[5 rows x 27 columns]"
      ]
     },
     "execution_count": 252,
     "metadata": {},
     "output_type": "execute_result"
    }
   ],
   "source": [
    "train.head()"
   ]
  },
  {
   "cell_type": "markdown",
   "metadata": {},
   "source": [
    "### Model Evaluation"
   ]
  },
  {
   "cell_type": "code",
   "execution_count": 250,
   "metadata": {},
   "outputs": [],
   "source": [
    "from sklearn import metrics\n",
    "import scipy.stats as stats"
   ]
  },
  {
   "cell_type": "markdown",
   "metadata": {},
   "source": [
    "### Train Evaluation"
   ]
  },
  {
   "cell_type": "code",
   "execution_count": 253,
   "metadata": {},
   "outputs": [
    {
     "name": "stdout",
     "output_type": "stream",
     "text": [
      "MAPE_train 0.12040714095077457\n"
     ]
    }
   ],
   "source": [
    "MAPE_train = np.mean(np.abs(train.Interest_Rate - train.pred)/train.Interest_Rate )\n",
    "print('MAPE_train',MAPE_train)"
   ]
  },
  {
   "cell_type": "code",
   "execution_count": 254,
   "metadata": {},
   "outputs": [
    {
     "name": "stdout",
     "output_type": "stream",
     "text": [
      "RMSE_train 3.7723440086628366\n"
     ]
    }
   ],
   "source": [
    "RMSE_train = metrics.mean_squared_error(train.Interest_Rate , train.pred)\n",
    "print('RMSE_train',RMSE_train)"
   ]
  },
  {
   "cell_type": "code",
   "execution_count": 255,
   "metadata": {},
   "outputs": [
    {
     "name": "stdout",
     "output_type": "stream",
     "text": [
      "Corr_train (0.8843330769274428, 0.0)\n"
     ]
    }
   ],
   "source": [
    "Corr_train = stats.stats.pearsonr(train.Interest_Rate , train.pred)\n",
    "print('Corr_train',Corr_train)"
   ]
  },
  {
   "cell_type": "code",
   "execution_count": 256,
   "metadata": {},
   "outputs": [
    {
     "name": "stdout",
     "output_type": "stream",
     "text": [
      "MAPE_test 0.12406755070178957\n",
      "RMSE_test 3.730973532885164\n",
      "Corr_test (0.8848129643486601, 2.7108697046206958e-250)\n"
     ]
    }
   ],
   "source": [
    "MAPE_test = np.mean(np.abs(test.Interest_Rate - test.pred)/test.Interest_Rate )\n",
    "print('MAPE_test',MAPE_test)\n",
    "\n",
    "RMSE_test = metrics.mean_squared_error(test.Interest_Rate , test.pred)\n",
    "print('RMSE_test',RMSE_test)\n",
    "\n",
    "Corr_test = stats.stats.pearsonr(test.Interest_Rate , test.pred)\n",
    "print('Corr_test',Corr_test)"
   ]
  },
  {
   "cell_type": "markdown",
   "metadata": {},
   "source": [
    "### Decile Analysis"
   ]
  },
  {
   "cell_type": "code",
   "execution_count": 257,
   "metadata": {},
   "outputs": [],
   "source": [
    "train['Deciles']=pd.qcut(train['pred'],10, labels=False)"
   ]
  },
  {
   "cell_type": "code",
   "execution_count": 258,
   "metadata": {},
   "outputs": [
    {
     "data": {
      "text/html": [
       "<div>\n",
       "<style scoped>\n",
       "    .dataframe tbody tr th:only-of-type {\n",
       "        vertical-align: middle;\n",
       "    }\n",
       "\n",
       "    .dataframe tbody tr th {\n",
       "        vertical-align: top;\n",
       "    }\n",
       "\n",
       "    .dataframe thead th {\n",
       "        text-align: right;\n",
       "    }\n",
       "</style>\n",
       "<table border=\"1\" class=\"dataframe\">\n",
       "  <thead>\n",
       "    <tr style=\"text-align: right;\">\n",
       "      <th></th>\n",
       "      <th>Amount_Requested</th>\n",
       "      <th>Loan_Length</th>\n",
       "      <th>Debt_To_Income_Ratio</th>\n",
       "      <th>Inquiries_in_the_Last_6_Months</th>\n",
       "      <th>Fico_avg</th>\n",
       "      <th>Loan_Purpose_debt_consolidation</th>\n",
       "      <th>Loan_Purpose_major_purchase</th>\n",
       "      <th>Loan_Purpose_home_improvement</th>\n",
       "      <th>Home_Ownership_RENT</th>\n",
       "      <th>Revolving_CREDIT_Balance</th>\n",
       "      <th>...</th>\n",
       "      <th>Loan_Purpose_vacation</th>\n",
       "      <th>Loan_Purpose_wedding</th>\n",
       "      <th>Loan_Purpose_educational</th>\n",
       "      <th>Loan_Purpose_medical</th>\n",
       "      <th>Loan_Purpose_renewable_energy</th>\n",
       "      <th>Employment_Length</th>\n",
       "      <th>ln_Interest_Rate</th>\n",
       "      <th>pred</th>\n",
       "      <th>Interest_Rate</th>\n",
       "      <th>Deciles</th>\n",
       "    </tr>\n",
       "  </thead>\n",
       "  <tbody>\n",
       "    <tr>\n",
       "      <td>42</td>\n",
       "      <td>5500.0</td>\n",
       "      <td>36.0</td>\n",
       "      <td>3.58</td>\n",
       "      <td>1.0</td>\n",
       "      <td>662.0</td>\n",
       "      <td>0</td>\n",
       "      <td>0</td>\n",
       "      <td>0</td>\n",
       "      <td>1</td>\n",
       "      <td>0.0</td>\n",
       "      <td>...</td>\n",
       "      <td>0</td>\n",
       "      <td>0</td>\n",
       "      <td>0</td>\n",
       "      <td>0</td>\n",
       "      <td>0</td>\n",
       "      <td>8.0</td>\n",
       "      <td>2.951258</td>\n",
       "      <td>15.943190</td>\n",
       "      <td>19.13</td>\n",
       "      <td>8</td>\n",
       "    </tr>\n",
       "    <tr>\n",
       "      <td>108</td>\n",
       "      <td>10000.0</td>\n",
       "      <td>36.0</td>\n",
       "      <td>10.59</td>\n",
       "      <td>3.0</td>\n",
       "      <td>692.0</td>\n",
       "      <td>1</td>\n",
       "      <td>0</td>\n",
       "      <td>0</td>\n",
       "      <td>1</td>\n",
       "      <td>10390.0</td>\n",
       "      <td>...</td>\n",
       "      <td>0</td>\n",
       "      <td>0</td>\n",
       "      <td>0</td>\n",
       "      <td>0</td>\n",
       "      <td>0</td>\n",
       "      <td>1.0</td>\n",
       "      <td>2.645465</td>\n",
       "      <td>13.769027</td>\n",
       "      <td>14.09</td>\n",
       "      <td>6</td>\n",
       "    </tr>\n",
       "    <tr>\n",
       "      <td>1577</td>\n",
       "      <td>8000.0</td>\n",
       "      <td>36.0</td>\n",
       "      <td>8.91</td>\n",
       "      <td>0.0</td>\n",
       "      <td>757.0</td>\n",
       "      <td>0</td>\n",
       "      <td>0</td>\n",
       "      <td>0</td>\n",
       "      <td>1</td>\n",
       "      <td>680.0</td>\n",
       "      <td>...</td>\n",
       "      <td>0</td>\n",
       "      <td>0</td>\n",
       "      <td>0</td>\n",
       "      <td>1</td>\n",
       "      <td>0</td>\n",
       "      <td>6.0</td>\n",
       "      <td>2.066863</td>\n",
       "      <td>7.919326</td>\n",
       "      <td>7.90</td>\n",
       "      <td>0</td>\n",
       "    </tr>\n",
       "    <tr>\n",
       "      <td>237</td>\n",
       "      <td>12375.0</td>\n",
       "      <td>36.0</td>\n",
       "      <td>22.42</td>\n",
       "      <td>0.0</td>\n",
       "      <td>682.0</td>\n",
       "      <td>1</td>\n",
       "      <td>0</td>\n",
       "      <td>0</td>\n",
       "      <td>0</td>\n",
       "      <td>12226.0</td>\n",
       "      <td>...</td>\n",
       "      <td>0</td>\n",
       "      <td>0</td>\n",
       "      <td>0</td>\n",
       "      <td>0</td>\n",
       "      <td>0</td>\n",
       "      <td>3.0</td>\n",
       "      <td>2.615204</td>\n",
       "      <td>14.092818</td>\n",
       "      <td>13.67</td>\n",
       "      <td>6</td>\n",
       "    </tr>\n",
       "    <tr>\n",
       "      <td>1436</td>\n",
       "      <td>3200.0</td>\n",
       "      <td>36.0</td>\n",
       "      <td>16.72</td>\n",
       "      <td>4.0</td>\n",
       "      <td>667.0</td>\n",
       "      <td>0</td>\n",
       "      <td>0</td>\n",
       "      <td>0</td>\n",
       "      <td>0</td>\n",
       "      <td>80837.0</td>\n",
       "      <td>...</td>\n",
       "      <td>0</td>\n",
       "      <td>0</td>\n",
       "      <td>0</td>\n",
       "      <td>0</td>\n",
       "      <td>0</td>\n",
       "      <td>10.0</td>\n",
       "      <td>2.534490</td>\n",
       "      <td>14.640030</td>\n",
       "      <td>12.61</td>\n",
       "      <td>7</td>\n",
       "    </tr>\n",
       "  </tbody>\n",
       "</table>\n",
       "<p>5 rows × 28 columns</p>\n",
       "</div>"
      ],
      "text/plain": [
       "      Amount_Requested  Loan_Length  Debt_To_Income_Ratio  \\\n",
       "42              5500.0         36.0                  3.58   \n",
       "108            10000.0         36.0                 10.59   \n",
       "1577            8000.0         36.0                  8.91   \n",
       "237            12375.0         36.0                 22.42   \n",
       "1436            3200.0         36.0                 16.72   \n",
       "\n",
       "      Inquiries_in_the_Last_6_Months  Fico_avg  \\\n",
       "42                               1.0     662.0   \n",
       "108                              3.0     692.0   \n",
       "1577                             0.0     757.0   \n",
       "237                              0.0     682.0   \n",
       "1436                             4.0     667.0   \n",
       "\n",
       "      Loan_Purpose_debt_consolidation  Loan_Purpose_major_purchase  \\\n",
       "42                                  0                            0   \n",
       "108                                 1                            0   \n",
       "1577                                0                            0   \n",
       "237                                 1                            0   \n",
       "1436                                0                            0   \n",
       "\n",
       "      Loan_Purpose_home_improvement  Home_Ownership_RENT  \\\n",
       "42                                0                    1   \n",
       "108                               0                    1   \n",
       "1577                              0                    1   \n",
       "237                               0                    0   \n",
       "1436                              0                    0   \n",
       "\n",
       "      Revolving_CREDIT_Balance  ...  Loan_Purpose_vacation  \\\n",
       "42                         0.0  ...                      0   \n",
       "108                    10390.0  ...                      0   \n",
       "1577                     680.0  ...                      0   \n",
       "237                    12226.0  ...                      0   \n",
       "1436                   80837.0  ...                      0   \n",
       "\n",
       "      Loan_Purpose_wedding  Loan_Purpose_educational  Loan_Purpose_medical  \\\n",
       "42                       0                         0                     0   \n",
       "108                      0                         0                     0   \n",
       "1577                     0                         0                     1   \n",
       "237                      0                         0                     0   \n",
       "1436                     0                         0                     0   \n",
       "\n",
       "      Loan_Purpose_renewable_energy  Employment_Length  ln_Interest_Rate  \\\n",
       "42                                0                8.0          2.951258   \n",
       "108                               0                1.0          2.645465   \n",
       "1577                              0                6.0          2.066863   \n",
       "237                               0                3.0          2.615204   \n",
       "1436                              0               10.0          2.534490   \n",
       "\n",
       "           pred  Interest_Rate  Deciles  \n",
       "42    15.943190          19.13        8  \n",
       "108   13.769027          14.09        6  \n",
       "1577   7.919326           7.90        0  \n",
       "237   14.092818          13.67        6  \n",
       "1436  14.640030          12.61        7  \n",
       "\n",
       "[5 rows x 28 columns]"
      ]
     },
     "execution_count": 258,
     "metadata": {},
     "output_type": "execute_result"
    }
   ],
   "source": [
    "train.head()"
   ]
  },
  {
   "cell_type": "code",
   "execution_count": 259,
   "metadata": {},
   "outputs": [],
   "source": [
    "avg_actual = train[['Deciles','Interest_Rate']].groupby(train.Deciles).mean().sort_index(ascending=False)['Interest_Rate']"
   ]
  },
  {
   "cell_type": "code",
   "execution_count": 261,
   "metadata": {},
   "outputs": [],
   "source": [
    "avg_pred = train[['Deciles','pred']].groupby(train.Deciles).mean().sort_index(ascending=False)['pred']"
   ]
  },
  {
   "cell_type": "code",
   "execution_count": 263,
   "metadata": {},
   "outputs": [],
   "source": [
    "#Decile analysis - Test\n",
    "test['Deciles']=pd.qcut(test['pred'],10, labels=False)\n",
    "\n",
    "avg_actual_test = test[['Deciles','Interest_Rate']].groupby(test.Deciles).mean().sort_index(ascending=False)['Interest_Rate']\n",
    "avg_pred_test = test[['Deciles','pred']].groupby(test.Deciles).mean().sort_index(ascending=False)['pred']"
   ]
  },
  {
   "cell_type": "code",
   "execution_count": 264,
   "metadata": {},
   "outputs": [],
   "source": [
    "Decile_analysis_test = pd.concat([avg_actual_test, avg_pred_test], axis=1)"
   ]
  },
  {
   "cell_type": "code",
   "execution_count": 265,
   "metadata": {},
   "outputs": [
    {
     "data": {
      "text/html": [
       "<div>\n",
       "<style scoped>\n",
       "    .dataframe tbody tr th:only-of-type {\n",
       "        vertical-align: middle;\n",
       "    }\n",
       "\n",
       "    .dataframe tbody tr th {\n",
       "        vertical-align: top;\n",
       "    }\n",
       "\n",
       "    .dataframe thead th {\n",
       "        text-align: right;\n",
       "    }\n",
       "</style>\n",
       "<table border=\"1\" class=\"dataframe\">\n",
       "  <thead>\n",
       "    <tr style=\"text-align: right;\">\n",
       "      <th></th>\n",
       "      <th>Deciles</th>\n",
       "      <th>Interest_Rate</th>\n",
       "      <th>pred</th>\n",
       "    </tr>\n",
       "  </thead>\n",
       "  <tbody>\n",
       "    <tr>\n",
       "      <td>0</td>\n",
       "      <td>9</td>\n",
       "      <td>19.702255</td>\n",
       "      <td>20.203275</td>\n",
       "    </tr>\n",
       "    <tr>\n",
       "      <td>1</td>\n",
       "      <td>8</td>\n",
       "      <td>16.572667</td>\n",
       "      <td>16.086487</td>\n",
       "    </tr>\n",
       "    <tr>\n",
       "      <td>2</td>\n",
       "      <td>7</td>\n",
       "      <td>15.734933</td>\n",
       "      <td>14.958247</td>\n",
       "    </tr>\n",
       "    <tr>\n",
       "      <td>3</td>\n",
       "      <td>6</td>\n",
       "      <td>14.526933</td>\n",
       "      <td>14.154341</td>\n",
       "    </tr>\n",
       "    <tr>\n",
       "      <td>4</td>\n",
       "      <td>5</td>\n",
       "      <td>13.481067</td>\n",
       "      <td>13.308206</td>\n",
       "    </tr>\n",
       "    <tr>\n",
       "      <td>5</td>\n",
       "      <td>4</td>\n",
       "      <td>12.442400</td>\n",
       "      <td>12.400434</td>\n",
       "    </tr>\n",
       "    <tr>\n",
       "      <td>6</td>\n",
       "      <td>3</td>\n",
       "      <td>11.384933</td>\n",
       "      <td>11.379457</td>\n",
       "    </tr>\n",
       "    <tr>\n",
       "      <td>7</td>\n",
       "      <td>2</td>\n",
       "      <td>9.977600</td>\n",
       "      <td>10.305029</td>\n",
       "    </tr>\n",
       "    <tr>\n",
       "      <td>8</td>\n",
       "      <td>1</td>\n",
       "      <td>8.446987</td>\n",
       "      <td>9.012567</td>\n",
       "    </tr>\n",
       "    <tr>\n",
       "      <td>9</td>\n",
       "      <td>0</td>\n",
       "      <td>7.189520</td>\n",
       "      <td>7.080534</td>\n",
       "    </tr>\n",
       "  </tbody>\n",
       "</table>\n",
       "</div>"
      ],
      "text/plain": [
       "   Deciles  Interest_Rate       pred\n",
       "0        9      19.702255  20.203275\n",
       "1        8      16.572667  16.086487\n",
       "2        7      15.734933  14.958247\n",
       "3        6      14.526933  14.154341\n",
       "4        5      13.481067  13.308206\n",
       "5        4      12.442400  12.400434\n",
       "6        3      11.384933  11.379457\n",
       "7        2       9.977600  10.305029\n",
       "8        1       8.446987   9.012567\n",
       "9        0       7.189520   7.080534"
      ]
     },
     "execution_count": 265,
     "metadata": {},
     "output_type": "execute_result"
    }
   ],
   "source": [
    "Decile_analysis_test.reset_index()"
   ]
  },
  {
   "cell_type": "markdown",
   "metadata": {},
   "source": [
    "### Analysis of Residuals"
   ]
  },
  {
   "cell_type": "code",
   "execution_count": 266,
   "metadata": {},
   "outputs": [
    {
     "data": {
      "text/plain": [
       "<matplotlib.axes._subplots.AxesSubplot at 0x1c9871f2d88>"
      ]
     },
     "execution_count": 266,
     "metadata": {},
     "output_type": "execute_result"
    },
    {
     "data": {
      "image/png": "[encoded data removed]",
      "text/plain": [
       "<Figure size 432x288 with 1 Axes>"
      ]
     },
     "metadata": {
      "needs_background": "light"
     },
     "output_type": "display_data"
    }
   ],
   "source": [
    "model.resid.hist(bins=100)"
   ]
  },
  {
   "cell_type": "code",
   "execution_count": null,
   "metadata": {},
   "outputs": [],
   "source": []
  }
 ],
 "metadata": {
  "kernelspec": {
   "display_name": "Python 3",
   "language": "python",
   "name": "python3"
  },
  "language_info": {
   "codemirror_mode": {
    "name": "ipython",
    "version": 3
   },
   "file_extension": ".py",
   "mimetype": "text/x-python",
   "name": "python",
   "nbconvert_exporter": "python",
   "pygments_lexer": "ipython3",
   "version": "3.7.4"
  }
 },
 "nbformat": 4,
 "nbformat_minor": 2
}
